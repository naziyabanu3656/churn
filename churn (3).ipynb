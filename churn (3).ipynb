{
 "cells": [
  {
   "cell_type": "code",
   "execution_count": 1,
   "id": "a564be72-b920-414c-b045-9ca66198725a",
   "metadata": {},
   "outputs": [],
   "source": [
    "import pandas as pd\n",
    "import numpy as np\n",
    "import os\n",
    "import matplotlib.pyplot as plt\n",
    "import warnings\n",
    "warnings.filterwarnings('ignore')"
   ]
  },
  {
   "cell_type": "code",
   "execution_count": 2,
   "id": "b0d220fd-e6c9-4941-89a9-df67e4db9fb4",
   "metadata": {},
   "outputs": [
    {
     "data": {
      "text/html": [
       "<div>\n",
       "<style scoped>\n",
       "    .dataframe tbody tr th:only-of-type {\n",
       "        vertical-align: middle;\n",
       "    }\n",
       "\n",
       "    .dataframe tbody tr th {\n",
       "        vertical-align: top;\n",
       "    }\n",
       "\n",
       "    .dataframe thead th {\n",
       "        text-align: right;\n",
       "    }\n",
       "</style>\n",
       "<table border=\"1\" class=\"dataframe\">\n",
       "  <thead>\n",
       "    <tr style=\"text-align: right;\">\n",
       "      <th></th>\n",
       "      <th>Customer ID</th>\n",
       "      <th>Gender</th>\n",
       "      <th>Senior Citizen</th>\n",
       "      <th>Partner</th>\n",
       "      <th>Dependents</th>\n",
       "      <th>tenure</th>\n",
       "      <th>Phone Service</th>\n",
       "      <th>Multiple Lines</th>\n",
       "      <th>Internet Service</th>\n",
       "      <th>Online Security</th>\n",
       "      <th>...</th>\n",
       "      <th>Device Protection</th>\n",
       "      <th>Tech Support</th>\n",
       "      <th>Streaming TV</th>\n",
       "      <th>Streaming Movies</th>\n",
       "      <th>Contract</th>\n",
       "      <th>Paperless Billing</th>\n",
       "      <th>Payment Method</th>\n",
       "      <th>Monthly Charges</th>\n",
       "      <th>Total Charges</th>\n",
       "      <th>Churn</th>\n",
       "    </tr>\n",
       "  </thead>\n",
       "  <tbody>\n",
       "    <tr>\n",
       "      <th>0</th>\n",
       "      <td>7590-VHVEA</td>\n",
       "      <td>Female</td>\n",
       "      <td>0</td>\n",
       "      <td>Yes</td>\n",
       "      <td>No</td>\n",
       "      <td>1</td>\n",
       "      <td>No</td>\n",
       "      <td>No phone service</td>\n",
       "      <td>DSL</td>\n",
       "      <td>No</td>\n",
       "      <td>...</td>\n",
       "      <td>No</td>\n",
       "      <td>No</td>\n",
       "      <td>No</td>\n",
       "      <td>No</td>\n",
       "      <td>Month-to-month</td>\n",
       "      <td>Yes</td>\n",
       "      <td>Electronic check</td>\n",
       "      <td>29.85</td>\n",
       "      <td>29.85</td>\n",
       "      <td>No</td>\n",
       "    </tr>\n",
       "    <tr>\n",
       "      <th>1</th>\n",
       "      <td>7590-VHVEG</td>\n",
       "      <td>Female</td>\n",
       "      <td>0</td>\n",
       "      <td>Yes</td>\n",
       "      <td>No</td>\n",
       "      <td>1</td>\n",
       "      <td>No</td>\n",
       "      <td>No phone service</td>\n",
       "      <td>DSL</td>\n",
       "      <td>No</td>\n",
       "      <td>...</td>\n",
       "      <td>No</td>\n",
       "      <td>No</td>\n",
       "      <td>No</td>\n",
       "      <td>No</td>\n",
       "      <td>Month-to-month</td>\n",
       "      <td>Yes</td>\n",
       "      <td>Electronic check</td>\n",
       "      <td>29.85</td>\n",
       "      <td>29.85</td>\n",
       "      <td>No</td>\n",
       "    </tr>\n",
       "    <tr>\n",
       "      <th>2</th>\n",
       "      <td>5575-GNVDE</td>\n",
       "      <td>Male</td>\n",
       "      <td>0</td>\n",
       "      <td>No</td>\n",
       "      <td>No</td>\n",
       "      <td>34</td>\n",
       "      <td>Yes</td>\n",
       "      <td>No</td>\n",
       "      <td>DSL</td>\n",
       "      <td>Yes</td>\n",
       "      <td>...</td>\n",
       "      <td>Yes</td>\n",
       "      <td>No</td>\n",
       "      <td>No</td>\n",
       "      <td>No</td>\n",
       "      <td>One year</td>\n",
       "      <td>No</td>\n",
       "      <td>Mailed check</td>\n",
       "      <td>56.95</td>\n",
       "      <td>1889.5</td>\n",
       "      <td>No</td>\n",
       "    </tr>\n",
       "    <tr>\n",
       "      <th>3</th>\n",
       "      <td>3668-QPYBK</td>\n",
       "      <td>Male</td>\n",
       "      <td>0</td>\n",
       "      <td>No</td>\n",
       "      <td>No</td>\n",
       "      <td>2</td>\n",
       "      <td>Yes</td>\n",
       "      <td>No</td>\n",
       "      <td>DSL</td>\n",
       "      <td>Yes</td>\n",
       "      <td>...</td>\n",
       "      <td>No</td>\n",
       "      <td>No</td>\n",
       "      <td>No</td>\n",
       "      <td>No</td>\n",
       "      <td>Month-to-month</td>\n",
       "      <td>Yes</td>\n",
       "      <td>Mailed check</td>\n",
       "      <td>53.85</td>\n",
       "      <td>108.15</td>\n",
       "      <td>Yes</td>\n",
       "    </tr>\n",
       "    <tr>\n",
       "      <th>4</th>\n",
       "      <td>7795-CFOCW</td>\n",
       "      <td>Male</td>\n",
       "      <td>0</td>\n",
       "      <td>No</td>\n",
       "      <td>No</td>\n",
       "      <td>45</td>\n",
       "      <td>No</td>\n",
       "      <td>No phone service</td>\n",
       "      <td>DSL</td>\n",
       "      <td>Yes</td>\n",
       "      <td>...</td>\n",
       "      <td>Yes</td>\n",
       "      <td>Yes</td>\n",
       "      <td>No</td>\n",
       "      <td>No</td>\n",
       "      <td>One year</td>\n",
       "      <td>No</td>\n",
       "      <td>Bank transfer (automatic)</td>\n",
       "      <td>42.30</td>\n",
       "      <td>1840.75</td>\n",
       "      <td>No</td>\n",
       "    </tr>\n",
       "    <tr>\n",
       "      <th>...</th>\n",
       "      <td>...</td>\n",
       "      <td>...</td>\n",
       "      <td>...</td>\n",
       "      <td>...</td>\n",
       "      <td>...</td>\n",
       "      <td>...</td>\n",
       "      <td>...</td>\n",
       "      <td>...</td>\n",
       "      <td>...</td>\n",
       "      <td>...</td>\n",
       "      <td>...</td>\n",
       "      <td>...</td>\n",
       "      <td>...</td>\n",
       "      <td>...</td>\n",
       "      <td>...</td>\n",
       "      <td>...</td>\n",
       "      <td>...</td>\n",
       "      <td>...</td>\n",
       "      <td>...</td>\n",
       "      <td>...</td>\n",
       "      <td>...</td>\n",
       "    </tr>\n",
       "    <tr>\n",
       "      <th>7039</th>\n",
       "      <td>6840-RESVB</td>\n",
       "      <td>Male</td>\n",
       "      <td>0</td>\n",
       "      <td>Yes</td>\n",
       "      <td>Yes</td>\n",
       "      <td>24</td>\n",
       "      <td>Yes</td>\n",
       "      <td>Yes</td>\n",
       "      <td>DSL</td>\n",
       "      <td>Yes</td>\n",
       "      <td>...</td>\n",
       "      <td>Yes</td>\n",
       "      <td>Yes</td>\n",
       "      <td>Yes</td>\n",
       "      <td>Yes</td>\n",
       "      <td>One year</td>\n",
       "      <td>Yes</td>\n",
       "      <td>Mailed check</td>\n",
       "      <td>84.80</td>\n",
       "      <td>1990.5</td>\n",
       "      <td>No</td>\n",
       "    </tr>\n",
       "    <tr>\n",
       "      <th>7040</th>\n",
       "      <td>2234-XADUH</td>\n",
       "      <td>Female</td>\n",
       "      <td>0</td>\n",
       "      <td>Yes</td>\n",
       "      <td>Yes</td>\n",
       "      <td>72</td>\n",
       "      <td>Yes</td>\n",
       "      <td>Yes</td>\n",
       "      <td>Fiber optic</td>\n",
       "      <td>No</td>\n",
       "      <td>...</td>\n",
       "      <td>Yes</td>\n",
       "      <td>No</td>\n",
       "      <td>Yes</td>\n",
       "      <td>Yes</td>\n",
       "      <td>One year</td>\n",
       "      <td>Yes</td>\n",
       "      <td>Credit card (automatic)</td>\n",
       "      <td>103.20</td>\n",
       "      <td>7362.9</td>\n",
       "      <td>No</td>\n",
       "    </tr>\n",
       "    <tr>\n",
       "      <th>7041</th>\n",
       "      <td>4801-JZAZL</td>\n",
       "      <td>Female</td>\n",
       "      <td>0</td>\n",
       "      <td>Yes</td>\n",
       "      <td>Yes</td>\n",
       "      <td>11</td>\n",
       "      <td>No</td>\n",
       "      <td>No phone service</td>\n",
       "      <td>DSL</td>\n",
       "      <td>Yes</td>\n",
       "      <td>...</td>\n",
       "      <td>No</td>\n",
       "      <td>No</td>\n",
       "      <td>No</td>\n",
       "      <td>No</td>\n",
       "      <td>Month-to-month</td>\n",
       "      <td>Yes</td>\n",
       "      <td>Electronic check</td>\n",
       "      <td>29.60</td>\n",
       "      <td>346.45</td>\n",
       "      <td>No</td>\n",
       "    </tr>\n",
       "    <tr>\n",
       "      <th>7042</th>\n",
       "      <td>8361-LTMKD</td>\n",
       "      <td>Male</td>\n",
       "      <td>1</td>\n",
       "      <td>Yes</td>\n",
       "      <td>No</td>\n",
       "      <td>4</td>\n",
       "      <td>Yes</td>\n",
       "      <td>Yes</td>\n",
       "      <td>Fiber optic</td>\n",
       "      <td>No</td>\n",
       "      <td>...</td>\n",
       "      <td>No</td>\n",
       "      <td>No</td>\n",
       "      <td>No</td>\n",
       "      <td>No</td>\n",
       "      <td>Month-to-month</td>\n",
       "      <td>Yes</td>\n",
       "      <td>Mailed check</td>\n",
       "      <td>74.40</td>\n",
       "      <td>306.6</td>\n",
       "      <td>Yes</td>\n",
       "    </tr>\n",
       "    <tr>\n",
       "      <th>7043</th>\n",
       "      <td>3186-AJIEK</td>\n",
       "      <td>Male</td>\n",
       "      <td>0</td>\n",
       "      <td>No</td>\n",
       "      <td>No</td>\n",
       "      <td>66</td>\n",
       "      <td>Yes</td>\n",
       "      <td>No</td>\n",
       "      <td>Fiber optic</td>\n",
       "      <td>Yes</td>\n",
       "      <td>...</td>\n",
       "      <td>Yes</td>\n",
       "      <td>Yes</td>\n",
       "      <td>Yes</td>\n",
       "      <td>Yes</td>\n",
       "      <td>Two year</td>\n",
       "      <td>Yes</td>\n",
       "      <td>Bank transfer (automatic)</td>\n",
       "      <td>105.65</td>\n",
       "      <td>6844.5</td>\n",
       "      <td>No</td>\n",
       "    </tr>\n",
       "  </tbody>\n",
       "</table>\n",
       "<p>7044 rows × 21 columns</p>\n",
       "</div>"
      ],
      "text/plain": [
       "     Customer ID  Gender  Senior Citizen Partner Dependents  tenure  \\\n",
       "0     7590-VHVEA  Female               0     Yes         No       1   \n",
       "1     7590-VHVEG  Female               0     Yes         No       1   \n",
       "2     5575-GNVDE    Male               0      No         No      34   \n",
       "3     3668-QPYBK    Male               0      No         No       2   \n",
       "4     7795-CFOCW    Male               0      No         No      45   \n",
       "...          ...     ...             ...     ...        ...     ...   \n",
       "7039  6840-RESVB    Male               0     Yes        Yes      24   \n",
       "7040  2234-XADUH  Female               0     Yes        Yes      72   \n",
       "7041  4801-JZAZL  Female               0     Yes        Yes      11   \n",
       "7042  8361-LTMKD    Male               1     Yes         No       4   \n",
       "7043  3186-AJIEK    Male               0      No         No      66   \n",
       "\n",
       "     Phone Service    Multiple Lines Internet Service Online Security  ...  \\\n",
       "0               No  No phone service              DSL              No  ...   \n",
       "1               No  No phone service              DSL              No  ...   \n",
       "2              Yes                No              DSL             Yes  ...   \n",
       "3              Yes                No              DSL             Yes  ...   \n",
       "4               No  No phone service              DSL             Yes  ...   \n",
       "...            ...               ...              ...             ...  ...   \n",
       "7039           Yes               Yes              DSL             Yes  ...   \n",
       "7040           Yes               Yes      Fiber optic              No  ...   \n",
       "7041            No  No phone service              DSL             Yes  ...   \n",
       "7042           Yes               Yes      Fiber optic              No  ...   \n",
       "7043           Yes                No      Fiber optic             Yes  ...   \n",
       "\n",
       "     Device Protection Tech Support Streaming TV Streaming Movies  \\\n",
       "0                   No           No           No               No   \n",
       "1                   No           No           No               No   \n",
       "2                  Yes           No           No               No   \n",
       "3                   No           No           No               No   \n",
       "4                  Yes          Yes           No               No   \n",
       "...                ...          ...          ...              ...   \n",
       "7039               Yes          Yes          Yes              Yes   \n",
       "7040               Yes           No          Yes              Yes   \n",
       "7041                No           No           No               No   \n",
       "7042                No           No           No               No   \n",
       "7043               Yes          Yes          Yes              Yes   \n",
       "\n",
       "            Contract Paperless Billing             Payment Method  \\\n",
       "0     Month-to-month               Yes           Electronic check   \n",
       "1     Month-to-month               Yes           Electronic check   \n",
       "2           One year                No               Mailed check   \n",
       "3     Month-to-month               Yes               Mailed check   \n",
       "4           One year                No  Bank transfer (automatic)   \n",
       "...              ...               ...                        ...   \n",
       "7039        One year               Yes               Mailed check   \n",
       "7040        One year               Yes    Credit card (automatic)   \n",
       "7041  Month-to-month               Yes           Electronic check   \n",
       "7042  Month-to-month               Yes               Mailed check   \n",
       "7043        Two year               Yes  Bank transfer (automatic)   \n",
       "\n",
       "     Monthly Charges  Total Charges Churn  \n",
       "0              29.85          29.85    No  \n",
       "1              29.85          29.85    No  \n",
       "2              56.95         1889.5    No  \n",
       "3              53.85         108.15   Yes  \n",
       "4              42.30        1840.75    No  \n",
       "...              ...            ...   ...  \n",
       "7039           84.80         1990.5    No  \n",
       "7040          103.20         7362.9    No  \n",
       "7041           29.60         346.45    No  \n",
       "7042           74.40          306.6   Yes  \n",
       "7043          105.65         6844.5    No  \n",
       "\n",
       "[7044 rows x 21 columns]"
      ]
     },
     "execution_count": 2,
     "metadata": {},
     "output_type": "execute_result"
    }
   ],
   "source": [
    "ch = pd.read_csv('Churn.csv')\n",
    "ch"
   ]
  },
  {
   "cell_type": "code",
   "execution_count": 3,
   "id": "5ca269de-f380-4f9d-8bee-916f24718048",
   "metadata": {},
   "outputs": [
    {
     "name": "stdout",
     "output_type": "stream",
     "text": [
      "<class 'pandas.core.frame.DataFrame'>\n",
      "RangeIndex: 7044 entries, 0 to 7043\n",
      "Data columns (total 21 columns):\n",
      " #   Column             Non-Null Count  Dtype  \n",
      "---  ------             --------------  -----  \n",
      " 0   Customer ID        7044 non-null   object \n",
      " 1   Gender             7044 non-null   object \n",
      " 2   Senior Citizen     7044 non-null   int64  \n",
      " 3   Partner            7044 non-null   object \n",
      " 4   Dependents         7044 non-null   object \n",
      " 5   tenure             7044 non-null   int64  \n",
      " 6   Phone Service      7044 non-null   object \n",
      " 7   Multiple Lines     7044 non-null   object \n",
      " 8   Internet Service   7044 non-null   object \n",
      " 9   Online Security    7044 non-null   object \n",
      " 10  Online Backup      7044 non-null   object \n",
      " 11  Device Protection  7044 non-null   object \n",
      " 12  Tech Support       7044 non-null   object \n",
      " 13  Streaming TV       7044 non-null   object \n",
      " 14  Streaming Movies   7044 non-null   object \n",
      " 15  Contract           7044 non-null   object \n",
      " 16  Paperless Billing  7044 non-null   object \n",
      " 17  Payment Method     7044 non-null   object \n",
      " 18  Monthly Charges    7044 non-null   float64\n",
      " 19  Total Charges      7044 non-null   object \n",
      " 20  Churn              7044 non-null   object \n",
      "dtypes: float64(1), int64(2), object(18)\n",
      "memory usage: 1.1+ MB\n"
     ]
    }
   ],
   "source": [
    "ch.info()"
   ]
  },
  {
   "cell_type": "code",
   "execution_count": 4,
   "id": "68612c6c-4d24-464d-8325-3567deddbdd8",
   "metadata": {},
   "outputs": [
    {
     "name": "stdout",
     "output_type": "stream",
     "text": [
      "float64\n"
     ]
    }
   ],
   "source": [
    "# shortcut to convert string data to numeric [that is actually numeric but displaying as object]\n",
    "# (only possible when there is no null value)\n",
    "\n",
    "ch['Total Charges'] = pd.to_numeric(ch['Total Charges'], errors = 'coerce')\n",
    "ch['Total Charges'] = ch['Total Charges'].astype(float)\n",
    "print(ch['Total Charges'].dtype)"
   ]
  },
  {
   "cell_type": "code",
   "execution_count": 5,
   "id": "b8808794-d1cc-4711-aaa9-d9e352364e08",
   "metadata": {},
   "outputs": [
    {
     "name": "stdout",
     "output_type": "stream",
     "text": [
      "<class 'pandas.core.frame.DataFrame'>\n",
      "RangeIndex: 7044 entries, 0 to 7043\n",
      "Data columns (total 21 columns):\n",
      " #   Column             Non-Null Count  Dtype  \n",
      "---  ------             --------------  -----  \n",
      " 0   Customer ID        7044 non-null   object \n",
      " 1   Gender             7044 non-null   object \n",
      " 2   Senior Citizen     7044 non-null   int64  \n",
      " 3   Partner            7044 non-null   object \n",
      " 4   Dependents         7044 non-null   object \n",
      " 5   tenure             7044 non-null   int64  \n",
      " 6   Phone Service      7044 non-null   object \n",
      " 7   Multiple Lines     7044 non-null   object \n",
      " 8   Internet Service   7044 non-null   object \n",
      " 9   Online Security    7044 non-null   object \n",
      " 10  Online Backup      7044 non-null   object \n",
      " 11  Device Protection  7044 non-null   object \n",
      " 12  Tech Support       7044 non-null   object \n",
      " 13  Streaming TV       7044 non-null   object \n",
      " 14  Streaming Movies   7044 non-null   object \n",
      " 15  Contract           7044 non-null   object \n",
      " 16  Paperless Billing  7044 non-null   object \n",
      " 17  Payment Method     7044 non-null   object \n",
      " 18  Monthly Charges    7044 non-null   float64\n",
      " 19  Total Charges      7033 non-null   float64\n",
      " 20  Churn              7044 non-null   object \n",
      "dtypes: float64(2), int64(2), object(17)\n",
      "memory usage: 1.1+ MB\n"
     ]
    }
   ],
   "source": [
    "ch.info()"
   ]
  },
  {
   "cell_type": "code",
   "execution_count": 6,
   "id": "1d8f9f79-460e-44dd-a279-9e60dfe469b3",
   "metadata": {},
   "outputs": [],
   "source": [
    "ch.drop(['Customer ID'], inplace = True, axis=1)"
   ]
  },
  {
   "cell_type": "code",
   "execution_count": 7,
   "id": "6fef404a-6dde-416d-bef9-51ae566d2adb",
   "metadata": {},
   "outputs": [
    {
     "name": "stdout",
     "output_type": "stream",
     "text": [
      "<class 'pandas.core.frame.DataFrame'>\n",
      "RangeIndex: 7044 entries, 0 to 7043\n",
      "Data columns (total 20 columns):\n",
      " #   Column             Non-Null Count  Dtype  \n",
      "---  ------             --------------  -----  \n",
      " 0   Gender             7044 non-null   object \n",
      " 1   Senior Citizen     7044 non-null   int64  \n",
      " 2   Partner            7044 non-null   object \n",
      " 3   Dependents         7044 non-null   object \n",
      " 4   tenure             7044 non-null   int64  \n",
      " 5   Phone Service      7044 non-null   object \n",
      " 6   Multiple Lines     7044 non-null   object \n",
      " 7   Internet Service   7044 non-null   object \n",
      " 8   Online Security    7044 non-null   object \n",
      " 9   Online Backup      7044 non-null   object \n",
      " 10  Device Protection  7044 non-null   object \n",
      " 11  Tech Support       7044 non-null   object \n",
      " 12  Streaming TV       7044 non-null   object \n",
      " 13  Streaming Movies   7044 non-null   object \n",
      " 14  Contract           7044 non-null   object \n",
      " 15  Paperless Billing  7044 non-null   object \n",
      " 16  Payment Method     7044 non-null   object \n",
      " 17  Monthly Charges    7044 non-null   float64\n",
      " 18  Total Charges      7033 non-null   float64\n",
      " 19  Churn              7044 non-null   object \n",
      "dtypes: float64(2), int64(2), object(16)\n",
      "memory usage: 1.1+ MB\n"
     ]
    }
   ],
   "source": [
    "ch.info()"
   ]
  },
  {
   "cell_type": "code",
   "execution_count": 8,
   "id": "f6acf2de-4b2e-47bc-87cd-a6ad75d548f5",
   "metadata": {},
   "outputs": [],
   "source": [
    "ch.drop(['Partner'],inplace = True, axis=1)"
   ]
  },
  {
   "cell_type": "code",
   "execution_count": 9,
   "id": "989039a7-489f-4689-a45c-145d09518d42",
   "metadata": {},
   "outputs": [],
   "source": [
    "ch.drop(['Dependents'],inplace = True, axis=1)"
   ]
  },
  {
   "cell_type": "code",
   "execution_count": 10,
   "id": "c5d9fe65-6c45-4450-b2e5-355859e805d2",
   "metadata": {},
   "outputs": [
    {
     "name": "stdout",
     "output_type": "stream",
     "text": [
      "<class 'pandas.core.frame.DataFrame'>\n",
      "RangeIndex: 7044 entries, 0 to 7043\n",
      "Data columns (total 18 columns):\n",
      " #   Column             Non-Null Count  Dtype  \n",
      "---  ------             --------------  -----  \n",
      " 0   Gender             7044 non-null   object \n",
      " 1   Senior Citizen     7044 non-null   int64  \n",
      " 2   tenure             7044 non-null   int64  \n",
      " 3   Phone Service      7044 non-null   object \n",
      " 4   Multiple Lines     7044 non-null   object \n",
      " 5   Internet Service   7044 non-null   object \n",
      " 6   Online Security    7044 non-null   object \n",
      " 7   Online Backup      7044 non-null   object \n",
      " 8   Device Protection  7044 non-null   object \n",
      " 9   Tech Support       7044 non-null   object \n",
      " 10  Streaming TV       7044 non-null   object \n",
      " 11  Streaming Movies   7044 non-null   object \n",
      " 12  Contract           7044 non-null   object \n",
      " 13  Paperless Billing  7044 non-null   object \n",
      " 14  Payment Method     7044 non-null   object \n",
      " 15  Monthly Charges    7044 non-null   float64\n",
      " 16  Total Charges      7033 non-null   float64\n",
      " 17  Churn              7044 non-null   object \n",
      "dtypes: float64(2), int64(2), object(14)\n",
      "memory usage: 990.7+ KB\n"
     ]
    }
   ],
   "source": [
    "ch.info()"
   ]
  },
  {
   "cell_type": "code",
   "execution_count": 11,
   "id": "b5c46a4c-ee3a-4e43-b305-57cc47ef752c",
   "metadata": {},
   "outputs": [],
   "source": [
    "# tenure\n",
    "# multiple lines\n",
    "# internet service\n",
    "# online backup\n",
    "# device protection\n",
    "# total charges\n",
    "# monthly charges\n",
    "# contract\n",
    "# payment method\n",
    "# tech support\n",
    "# churn"
   ]
  },
  {
   "cell_type": "code",
   "execution_count": 12,
   "id": "06d84f3e-fda6-4113-bd00-a4b834b513b3",
   "metadata": {},
   "outputs": [],
   "source": [
    "ch.drop(['Paperless Billing'], inplace = True, axis=1)"
   ]
  },
  {
   "cell_type": "code",
   "execution_count": 13,
   "id": "a6117ab6-12d3-4a6e-9184-aef3a52779f5",
   "metadata": {},
   "outputs": [],
   "source": [
    "ch.drop(['Streaming Movies'], inplace = True, axis=1)"
   ]
  },
  {
   "cell_type": "code",
   "execution_count": 14,
   "id": "cecf0959-e70c-4dd7-a136-85dabecbecde",
   "metadata": {},
   "outputs": [],
   "source": [
    "ch.drop(['Streaming TV'], inplace = True, axis=1)"
   ]
  },
  {
   "cell_type": "code",
   "execution_count": 15,
   "id": "7726f9af-9768-49ba-b934-1b8796d85637",
   "metadata": {},
   "outputs": [],
   "source": [
    "ch.drop(['Online Security'], inplace = True, axis=1)"
   ]
  },
  {
   "cell_type": "code",
   "execution_count": 16,
   "id": "62dad56d-cca6-470d-bc39-efe090cba53f",
   "metadata": {},
   "outputs": [],
   "source": [
    "ch.drop(['Phone Service'], inplace = True, axis=1)"
   ]
  },
  {
   "cell_type": "code",
   "execution_count": 17,
   "id": "e176d1e4-199f-4513-a071-8a437dd035ac",
   "metadata": {},
   "outputs": [],
   "source": [
    "ch.drop(['Senior Citizen'], inplace = True, axis=1)"
   ]
  },
  {
   "cell_type": "code",
   "execution_count": 18,
   "id": "0e097d5c-7a86-49c9-b8b7-2ca11ba69049",
   "metadata": {},
   "outputs": [],
   "source": [
    "ch.drop(['Gender'], inplace = True, axis=1)"
   ]
  },
  {
   "cell_type": "code",
   "execution_count": 19,
   "id": "e48e571b-3e67-4a34-8e89-b5e5cef6d1ba",
   "metadata": {},
   "outputs": [
    {
     "name": "stdout",
     "output_type": "stream",
     "text": [
      "<class 'pandas.core.frame.DataFrame'>\n",
      "RangeIndex: 7044 entries, 0 to 7043\n",
      "Data columns (total 11 columns):\n",
      " #   Column             Non-Null Count  Dtype  \n",
      "---  ------             --------------  -----  \n",
      " 0   tenure             7044 non-null   int64  \n",
      " 1   Multiple Lines     7044 non-null   object \n",
      " 2   Internet Service   7044 non-null   object \n",
      " 3   Online Backup      7044 non-null   object \n",
      " 4   Device Protection  7044 non-null   object \n",
      " 5   Tech Support       7044 non-null   object \n",
      " 6   Contract           7044 non-null   object \n",
      " 7   Payment Method     7044 non-null   object \n",
      " 8   Monthly Charges    7044 non-null   float64\n",
      " 9   Total Charges      7033 non-null   float64\n",
      " 10  Churn              7044 non-null   object \n",
      "dtypes: float64(2), int64(1), object(8)\n",
      "memory usage: 605.5+ KB\n"
     ]
    }
   ],
   "source": [
    "ch.info()"
   ]
  },
  {
   "cell_type": "code",
   "execution_count": 20,
   "id": "ad6873b5-3726-488d-b074-5a9483935abe",
   "metadata": {},
   "outputs": [
    {
     "name": "stdout",
     "output_type": "stream",
     "text": [
      "<class 'pandas.core.frame.DataFrame'>\n",
      "RangeIndex: 7044 entries, 0 to 7043\n",
      "Data columns (total 11 columns):\n",
      " #   Column             Non-Null Count  Dtype  \n",
      "---  ------             --------------  -----  \n",
      " 0   tenure             7044 non-null   int64  \n",
      " 1   Multiple Lines     7044 non-null   object \n",
      " 2   Internet Service   7044 non-null   object \n",
      " 3   Online Backup      7044 non-null   object \n",
      " 4   Device Protection  7044 non-null   object \n",
      " 5   Tech Support       7044 non-null   object \n",
      " 6   Contract           7044 non-null   object \n",
      " 7   Payment Method     7044 non-null   object \n",
      " 8   Monthly Charges    7044 non-null   float64\n",
      " 9   Total Charges      7033 non-null   float64\n",
      " 10  Churn              7044 non-null   object \n",
      "dtypes: float64(2), int64(1), object(8)\n",
      "memory usage: 605.5+ KB\n"
     ]
    }
   ],
   "source": [
    "ch.info()"
   ]
  },
  {
   "cell_type": "code",
   "execution_count": 21,
   "id": "f38298b2-b513-4f88-ab34-0036b2cf1753",
   "metadata": {},
   "outputs": [],
   "source": [
    "# drop more that one column\n",
    "# ch.drop(['cl','cl','cl'...],inplace = True, axis=1)"
   ]
  },
  {
   "cell_type": "code",
   "execution_count": 22,
   "id": "198c1f8d-16f0-42bc-971e-15755de1ee33",
   "metadata": {},
   "outputs": [],
   "source": [
    "from sklearn.preprocessing import LabelEncoder\n",
    "labelEncoder = LabelEncoder()"
   ]
  },
  {
   "cell_type": "code",
   "execution_count": 23,
   "id": "b944084d-05bd-4a11-9f1b-30bb98811fae",
   "metadata": {},
   "outputs": [],
   "source": [
    "ch['Multiple_lines'] = labelEncoder.fit_transform(ch['Multiple Lines'])\n",
    "ch['Internet_service'] = labelEncoder.fit_transform(ch['Internet Service'])\n",
    "ch['online_backup'] = labelEncoder.fit_transform(ch['Online Backup'])\n",
    "ch['device_protection'] = labelEncoder.fit_transform(ch['Device Protection'])\n",
    "ch['tech_support'] = labelEncoder.fit_transform(ch['Tech Support'])\n",
    "ch['contract_encoder'] = labelEncoder.fit_transform(ch['Contract'])\n",
    "ch['payment_method'] = labelEncoder.fit_transform(ch['Payment Method'])"
   ]
  },
  {
   "cell_type": "code",
   "execution_count": 24,
   "id": "b3a56261-bbc2-411f-8987-cbc243fd8673",
   "metadata": {},
   "outputs": [
    {
     "data": {
      "text/html": [
       "<div>\n",
       "<style scoped>\n",
       "    .dataframe tbody tr th:only-of-type {\n",
       "        vertical-align: middle;\n",
       "    }\n",
       "\n",
       "    .dataframe tbody tr th {\n",
       "        vertical-align: top;\n",
       "    }\n",
       "\n",
       "    .dataframe thead th {\n",
       "        text-align: right;\n",
       "    }\n",
       "</style>\n",
       "<table border=\"1\" class=\"dataframe\">\n",
       "  <thead>\n",
       "    <tr style=\"text-align: right;\">\n",
       "      <th></th>\n",
       "      <th>tenure</th>\n",
       "      <th>Multiple Lines</th>\n",
       "      <th>Internet Service</th>\n",
       "      <th>Online Backup</th>\n",
       "      <th>Device Protection</th>\n",
       "      <th>Tech Support</th>\n",
       "      <th>Contract</th>\n",
       "      <th>Payment Method</th>\n",
       "      <th>Monthly Charges</th>\n",
       "      <th>Total Charges</th>\n",
       "      <th>Churn</th>\n",
       "      <th>Multiple_lines</th>\n",
       "      <th>Internet_service</th>\n",
       "      <th>online_backup</th>\n",
       "      <th>device_protection</th>\n",
       "      <th>tech_support</th>\n",
       "      <th>contract_encoder</th>\n",
       "      <th>payment_method</th>\n",
       "    </tr>\n",
       "  </thead>\n",
       "  <tbody>\n",
       "    <tr>\n",
       "      <th>0</th>\n",
       "      <td>1</td>\n",
       "      <td>No phone service</td>\n",
       "      <td>DSL</td>\n",
       "      <td>Yes</td>\n",
       "      <td>No</td>\n",
       "      <td>No</td>\n",
       "      <td>Month-to-month</td>\n",
       "      <td>Electronic check</td>\n",
       "      <td>29.85</td>\n",
       "      <td>29.85</td>\n",
       "      <td>No</td>\n",
       "      <td>1</td>\n",
       "      <td>0</td>\n",
       "      <td>2</td>\n",
       "      <td>0</td>\n",
       "      <td>0</td>\n",
       "      <td>0</td>\n",
       "      <td>2</td>\n",
       "    </tr>\n",
       "    <tr>\n",
       "      <th>1</th>\n",
       "      <td>1</td>\n",
       "      <td>No phone service</td>\n",
       "      <td>DSL</td>\n",
       "      <td>Yes</td>\n",
       "      <td>No</td>\n",
       "      <td>No</td>\n",
       "      <td>Month-to-month</td>\n",
       "      <td>Electronic check</td>\n",
       "      <td>29.85</td>\n",
       "      <td>29.85</td>\n",
       "      <td>No</td>\n",
       "      <td>1</td>\n",
       "      <td>0</td>\n",
       "      <td>2</td>\n",
       "      <td>0</td>\n",
       "      <td>0</td>\n",
       "      <td>0</td>\n",
       "      <td>2</td>\n",
       "    </tr>\n",
       "    <tr>\n",
       "      <th>2</th>\n",
       "      <td>34</td>\n",
       "      <td>No</td>\n",
       "      <td>DSL</td>\n",
       "      <td>No</td>\n",
       "      <td>Yes</td>\n",
       "      <td>No</td>\n",
       "      <td>One year</td>\n",
       "      <td>Mailed check</td>\n",
       "      <td>56.95</td>\n",
       "      <td>1889.50</td>\n",
       "      <td>No</td>\n",
       "      <td>0</td>\n",
       "      <td>0</td>\n",
       "      <td>0</td>\n",
       "      <td>2</td>\n",
       "      <td>0</td>\n",
       "      <td>1</td>\n",
       "      <td>3</td>\n",
       "    </tr>\n",
       "    <tr>\n",
       "      <th>3</th>\n",
       "      <td>2</td>\n",
       "      <td>No</td>\n",
       "      <td>DSL</td>\n",
       "      <td>Yes</td>\n",
       "      <td>No</td>\n",
       "      <td>No</td>\n",
       "      <td>Month-to-month</td>\n",
       "      <td>Mailed check</td>\n",
       "      <td>53.85</td>\n",
       "      <td>108.15</td>\n",
       "      <td>Yes</td>\n",
       "      <td>0</td>\n",
       "      <td>0</td>\n",
       "      <td>2</td>\n",
       "      <td>0</td>\n",
       "      <td>0</td>\n",
       "      <td>0</td>\n",
       "      <td>3</td>\n",
       "    </tr>\n",
       "    <tr>\n",
       "      <th>4</th>\n",
       "      <td>45</td>\n",
       "      <td>No phone service</td>\n",
       "      <td>DSL</td>\n",
       "      <td>No</td>\n",
       "      <td>Yes</td>\n",
       "      <td>Yes</td>\n",
       "      <td>One year</td>\n",
       "      <td>Bank transfer (automatic)</td>\n",
       "      <td>42.30</td>\n",
       "      <td>1840.75</td>\n",
       "      <td>No</td>\n",
       "      <td>1</td>\n",
       "      <td>0</td>\n",
       "      <td>0</td>\n",
       "      <td>2</td>\n",
       "      <td>2</td>\n",
       "      <td>1</td>\n",
       "      <td>0</td>\n",
       "    </tr>\n",
       "    <tr>\n",
       "      <th>...</th>\n",
       "      <td>...</td>\n",
       "      <td>...</td>\n",
       "      <td>...</td>\n",
       "      <td>...</td>\n",
       "      <td>...</td>\n",
       "      <td>...</td>\n",
       "      <td>...</td>\n",
       "      <td>...</td>\n",
       "      <td>...</td>\n",
       "      <td>...</td>\n",
       "      <td>...</td>\n",
       "      <td>...</td>\n",
       "      <td>...</td>\n",
       "      <td>...</td>\n",
       "      <td>...</td>\n",
       "      <td>...</td>\n",
       "      <td>...</td>\n",
       "      <td>...</td>\n",
       "    </tr>\n",
       "    <tr>\n",
       "      <th>7039</th>\n",
       "      <td>24</td>\n",
       "      <td>Yes</td>\n",
       "      <td>DSL</td>\n",
       "      <td>No</td>\n",
       "      <td>Yes</td>\n",
       "      <td>Yes</td>\n",
       "      <td>One year</td>\n",
       "      <td>Mailed check</td>\n",
       "      <td>84.80</td>\n",
       "      <td>1990.50</td>\n",
       "      <td>No</td>\n",
       "      <td>2</td>\n",
       "      <td>0</td>\n",
       "      <td>0</td>\n",
       "      <td>2</td>\n",
       "      <td>2</td>\n",
       "      <td>1</td>\n",
       "      <td>3</td>\n",
       "    </tr>\n",
       "    <tr>\n",
       "      <th>7040</th>\n",
       "      <td>72</td>\n",
       "      <td>Yes</td>\n",
       "      <td>Fiber optic</td>\n",
       "      <td>Yes</td>\n",
       "      <td>Yes</td>\n",
       "      <td>No</td>\n",
       "      <td>One year</td>\n",
       "      <td>Credit card (automatic)</td>\n",
       "      <td>103.20</td>\n",
       "      <td>7362.90</td>\n",
       "      <td>No</td>\n",
       "      <td>2</td>\n",
       "      <td>1</td>\n",
       "      <td>2</td>\n",
       "      <td>2</td>\n",
       "      <td>0</td>\n",
       "      <td>1</td>\n",
       "      <td>1</td>\n",
       "    </tr>\n",
       "    <tr>\n",
       "      <th>7041</th>\n",
       "      <td>11</td>\n",
       "      <td>No phone service</td>\n",
       "      <td>DSL</td>\n",
       "      <td>No</td>\n",
       "      <td>No</td>\n",
       "      <td>No</td>\n",
       "      <td>Month-to-month</td>\n",
       "      <td>Electronic check</td>\n",
       "      <td>29.60</td>\n",
       "      <td>346.45</td>\n",
       "      <td>No</td>\n",
       "      <td>1</td>\n",
       "      <td>0</td>\n",
       "      <td>0</td>\n",
       "      <td>0</td>\n",
       "      <td>0</td>\n",
       "      <td>0</td>\n",
       "      <td>2</td>\n",
       "    </tr>\n",
       "    <tr>\n",
       "      <th>7042</th>\n",
       "      <td>4</td>\n",
       "      <td>Yes</td>\n",
       "      <td>Fiber optic</td>\n",
       "      <td>No</td>\n",
       "      <td>No</td>\n",
       "      <td>No</td>\n",
       "      <td>Month-to-month</td>\n",
       "      <td>Mailed check</td>\n",
       "      <td>74.40</td>\n",
       "      <td>306.60</td>\n",
       "      <td>Yes</td>\n",
       "      <td>2</td>\n",
       "      <td>1</td>\n",
       "      <td>0</td>\n",
       "      <td>0</td>\n",
       "      <td>0</td>\n",
       "      <td>0</td>\n",
       "      <td>3</td>\n",
       "    </tr>\n",
       "    <tr>\n",
       "      <th>7043</th>\n",
       "      <td>66</td>\n",
       "      <td>No</td>\n",
       "      <td>Fiber optic</td>\n",
       "      <td>No</td>\n",
       "      <td>Yes</td>\n",
       "      <td>Yes</td>\n",
       "      <td>Two year</td>\n",
       "      <td>Bank transfer (automatic)</td>\n",
       "      <td>105.65</td>\n",
       "      <td>6844.50</td>\n",
       "      <td>No</td>\n",
       "      <td>0</td>\n",
       "      <td>1</td>\n",
       "      <td>0</td>\n",
       "      <td>2</td>\n",
       "      <td>2</td>\n",
       "      <td>2</td>\n",
       "      <td>0</td>\n",
       "    </tr>\n",
       "  </tbody>\n",
       "</table>\n",
       "<p>7044 rows × 18 columns</p>\n",
       "</div>"
      ],
      "text/plain": [
       "      tenure    Multiple Lines Internet Service Online Backup  \\\n",
       "0          1  No phone service              DSL           Yes   \n",
       "1          1  No phone service              DSL           Yes   \n",
       "2         34                No              DSL            No   \n",
       "3          2                No              DSL           Yes   \n",
       "4         45  No phone service              DSL            No   \n",
       "...      ...               ...              ...           ...   \n",
       "7039      24               Yes              DSL            No   \n",
       "7040      72               Yes      Fiber optic           Yes   \n",
       "7041      11  No phone service              DSL            No   \n",
       "7042       4               Yes      Fiber optic            No   \n",
       "7043      66                No      Fiber optic            No   \n",
       "\n",
       "     Device Protection Tech Support        Contract  \\\n",
       "0                   No           No  Month-to-month   \n",
       "1                   No           No  Month-to-month   \n",
       "2                  Yes           No        One year   \n",
       "3                   No           No  Month-to-month   \n",
       "4                  Yes          Yes        One year   \n",
       "...                ...          ...             ...   \n",
       "7039               Yes          Yes        One year   \n",
       "7040               Yes           No        One year   \n",
       "7041                No           No  Month-to-month   \n",
       "7042                No           No  Month-to-month   \n",
       "7043               Yes          Yes        Two year   \n",
       "\n",
       "                 Payment Method  Monthly Charges  Total Charges Churn  \\\n",
       "0              Electronic check            29.85          29.85    No   \n",
       "1              Electronic check            29.85          29.85    No   \n",
       "2                  Mailed check            56.95        1889.50    No   \n",
       "3                  Mailed check            53.85         108.15   Yes   \n",
       "4     Bank transfer (automatic)            42.30        1840.75    No   \n",
       "...                         ...              ...            ...   ...   \n",
       "7039               Mailed check            84.80        1990.50    No   \n",
       "7040    Credit card (automatic)           103.20        7362.90    No   \n",
       "7041           Electronic check            29.60         346.45    No   \n",
       "7042               Mailed check            74.40         306.60   Yes   \n",
       "7043  Bank transfer (automatic)           105.65        6844.50    No   \n",
       "\n",
       "      Multiple_lines  Internet_service  online_backup  device_protection  \\\n",
       "0                  1                 0              2                  0   \n",
       "1                  1                 0              2                  0   \n",
       "2                  0                 0              0                  2   \n",
       "3                  0                 0              2                  0   \n",
       "4                  1                 0              0                  2   \n",
       "...              ...               ...            ...                ...   \n",
       "7039               2                 0              0                  2   \n",
       "7040               2                 1              2                  2   \n",
       "7041               1                 0              0                  0   \n",
       "7042               2                 1              0                  0   \n",
       "7043               0                 1              0                  2   \n",
       "\n",
       "      tech_support  contract_encoder  payment_method  \n",
       "0                0                 0               2  \n",
       "1                0                 0               2  \n",
       "2                0                 1               3  \n",
       "3                0                 0               3  \n",
       "4                2                 1               0  \n",
       "...            ...               ...             ...  \n",
       "7039             2                 1               3  \n",
       "7040             0                 1               1  \n",
       "7041             0                 0               2  \n",
       "7042             0                 0               3  \n",
       "7043             2                 2               0  \n",
       "\n",
       "[7044 rows x 18 columns]"
      ]
     },
     "execution_count": 24,
     "metadata": {},
     "output_type": "execute_result"
    }
   ],
   "source": [
    "ch"
   ]
  },
  {
   "cell_type": "code",
   "execution_count": 25,
   "id": "b2e74f8e-4874-426d-9a46-2d11afe7de54",
   "metadata": {},
   "outputs": [
    {
     "name": "stdout",
     "output_type": "stream",
     "text": [
      "<class 'pandas.core.frame.DataFrame'>\n",
      "RangeIndex: 7044 entries, 0 to 7043\n",
      "Data columns (total 18 columns):\n",
      " #   Column             Non-Null Count  Dtype  \n",
      "---  ------             --------------  -----  \n",
      " 0   tenure             7044 non-null   int64  \n",
      " 1   Multiple Lines     7044 non-null   object \n",
      " 2   Internet Service   7044 non-null   object \n",
      " 3   Online Backup      7044 non-null   object \n",
      " 4   Device Protection  7044 non-null   object \n",
      " 5   Tech Support       7044 non-null   object \n",
      " 6   Contract           7044 non-null   object \n",
      " 7   Payment Method     7044 non-null   object \n",
      " 8   Monthly Charges    7044 non-null   float64\n",
      " 9   Total Charges      7033 non-null   float64\n",
      " 10  Churn              7044 non-null   object \n",
      " 11  Multiple_lines     7044 non-null   int32  \n",
      " 12  Internet_service   7044 non-null   int32  \n",
      " 13  online_backup      7044 non-null   int32  \n",
      " 14  device_protection  7044 non-null   int32  \n",
      " 15  tech_support       7044 non-null   int32  \n",
      " 16  contract_encoder   7044 non-null   int32  \n",
      " 17  payment_method     7044 non-null   int32  \n",
      "dtypes: float64(2), int32(7), int64(1), object(8)\n",
      "memory usage: 798.1+ KB\n"
     ]
    }
   ],
   "source": [
    "ch.info()"
   ]
  },
  {
   "cell_type": "code",
   "execution_count": 26,
   "id": "1588639a-e8c5-4835-bfbd-a39f557d1440",
   "metadata": {},
   "outputs": [
    {
     "data": {
      "text/html": [
       "<div>\n",
       "<style scoped>\n",
       "    .dataframe tbody tr th:only-of-type {\n",
       "        vertical-align: middle;\n",
       "    }\n",
       "\n",
       "    .dataframe tbody tr th {\n",
       "        vertical-align: top;\n",
       "    }\n",
       "\n",
       "    .dataframe thead th {\n",
       "        text-align: right;\n",
       "    }\n",
       "</style>\n",
       "<table border=\"1\" class=\"dataframe\">\n",
       "  <thead>\n",
       "    <tr style=\"text-align: right;\">\n",
       "      <th></th>\n",
       "      <th>tenure</th>\n",
       "      <th>Multiple Lines</th>\n",
       "      <th>Internet Service</th>\n",
       "      <th>Online Backup</th>\n",
       "      <th>Device Protection</th>\n",
       "      <th>Tech Support</th>\n",
       "      <th>Contract</th>\n",
       "      <th>Payment Method</th>\n",
       "      <th>Monthly Charges</th>\n",
       "      <th>Total Charges</th>\n",
       "      <th>Churn</th>\n",
       "      <th>Multiple_lines</th>\n",
       "      <th>Internet_service</th>\n",
       "      <th>online_backup</th>\n",
       "      <th>device_protection</th>\n",
       "      <th>tech_support</th>\n",
       "      <th>contract_encoder</th>\n",
       "      <th>payment_method</th>\n",
       "      <th>churned_mapped</th>\n",
       "    </tr>\n",
       "  </thead>\n",
       "  <tbody>\n",
       "    <tr>\n",
       "      <th>0</th>\n",
       "      <td>1</td>\n",
       "      <td>No phone service</td>\n",
       "      <td>DSL</td>\n",
       "      <td>Yes</td>\n",
       "      <td>No</td>\n",
       "      <td>No</td>\n",
       "      <td>Month-to-month</td>\n",
       "      <td>Electronic check</td>\n",
       "      <td>29.85</td>\n",
       "      <td>29.85</td>\n",
       "      <td>No</td>\n",
       "      <td>1</td>\n",
       "      <td>0</td>\n",
       "      <td>2</td>\n",
       "      <td>0</td>\n",
       "      <td>0</td>\n",
       "      <td>0</td>\n",
       "      <td>2</td>\n",
       "      <td>0</td>\n",
       "    </tr>\n",
       "    <tr>\n",
       "      <th>1</th>\n",
       "      <td>1</td>\n",
       "      <td>No phone service</td>\n",
       "      <td>DSL</td>\n",
       "      <td>Yes</td>\n",
       "      <td>No</td>\n",
       "      <td>No</td>\n",
       "      <td>Month-to-month</td>\n",
       "      <td>Electronic check</td>\n",
       "      <td>29.85</td>\n",
       "      <td>29.85</td>\n",
       "      <td>No</td>\n",
       "      <td>1</td>\n",
       "      <td>0</td>\n",
       "      <td>2</td>\n",
       "      <td>0</td>\n",
       "      <td>0</td>\n",
       "      <td>0</td>\n",
       "      <td>2</td>\n",
       "      <td>0</td>\n",
       "    </tr>\n",
       "    <tr>\n",
       "      <th>2</th>\n",
       "      <td>34</td>\n",
       "      <td>No</td>\n",
       "      <td>DSL</td>\n",
       "      <td>No</td>\n",
       "      <td>Yes</td>\n",
       "      <td>No</td>\n",
       "      <td>One year</td>\n",
       "      <td>Mailed check</td>\n",
       "      <td>56.95</td>\n",
       "      <td>1889.50</td>\n",
       "      <td>No</td>\n",
       "      <td>0</td>\n",
       "      <td>0</td>\n",
       "      <td>0</td>\n",
       "      <td>2</td>\n",
       "      <td>0</td>\n",
       "      <td>1</td>\n",
       "      <td>3</td>\n",
       "      <td>0</td>\n",
       "    </tr>\n",
       "    <tr>\n",
       "      <th>3</th>\n",
       "      <td>2</td>\n",
       "      <td>No</td>\n",
       "      <td>DSL</td>\n",
       "      <td>Yes</td>\n",
       "      <td>No</td>\n",
       "      <td>No</td>\n",
       "      <td>Month-to-month</td>\n",
       "      <td>Mailed check</td>\n",
       "      <td>53.85</td>\n",
       "      <td>108.15</td>\n",
       "      <td>Yes</td>\n",
       "      <td>0</td>\n",
       "      <td>0</td>\n",
       "      <td>2</td>\n",
       "      <td>0</td>\n",
       "      <td>0</td>\n",
       "      <td>0</td>\n",
       "      <td>3</td>\n",
       "      <td>1</td>\n",
       "    </tr>\n",
       "    <tr>\n",
       "      <th>4</th>\n",
       "      <td>45</td>\n",
       "      <td>No phone service</td>\n",
       "      <td>DSL</td>\n",
       "      <td>No</td>\n",
       "      <td>Yes</td>\n",
       "      <td>Yes</td>\n",
       "      <td>One year</td>\n",
       "      <td>Bank transfer (automatic)</td>\n",
       "      <td>42.30</td>\n",
       "      <td>1840.75</td>\n",
       "      <td>No</td>\n",
       "      <td>1</td>\n",
       "      <td>0</td>\n",
       "      <td>0</td>\n",
       "      <td>2</td>\n",
       "      <td>2</td>\n",
       "      <td>1</td>\n",
       "      <td>0</td>\n",
       "      <td>0</td>\n",
       "    </tr>\n",
       "    <tr>\n",
       "      <th>...</th>\n",
       "      <td>...</td>\n",
       "      <td>...</td>\n",
       "      <td>...</td>\n",
       "      <td>...</td>\n",
       "      <td>...</td>\n",
       "      <td>...</td>\n",
       "      <td>...</td>\n",
       "      <td>...</td>\n",
       "      <td>...</td>\n",
       "      <td>...</td>\n",
       "      <td>...</td>\n",
       "      <td>...</td>\n",
       "      <td>...</td>\n",
       "      <td>...</td>\n",
       "      <td>...</td>\n",
       "      <td>...</td>\n",
       "      <td>...</td>\n",
       "      <td>...</td>\n",
       "      <td>...</td>\n",
       "    </tr>\n",
       "    <tr>\n",
       "      <th>7039</th>\n",
       "      <td>24</td>\n",
       "      <td>Yes</td>\n",
       "      <td>DSL</td>\n",
       "      <td>No</td>\n",
       "      <td>Yes</td>\n",
       "      <td>Yes</td>\n",
       "      <td>One year</td>\n",
       "      <td>Mailed check</td>\n",
       "      <td>84.80</td>\n",
       "      <td>1990.50</td>\n",
       "      <td>No</td>\n",
       "      <td>2</td>\n",
       "      <td>0</td>\n",
       "      <td>0</td>\n",
       "      <td>2</td>\n",
       "      <td>2</td>\n",
       "      <td>1</td>\n",
       "      <td>3</td>\n",
       "      <td>0</td>\n",
       "    </tr>\n",
       "    <tr>\n",
       "      <th>7040</th>\n",
       "      <td>72</td>\n",
       "      <td>Yes</td>\n",
       "      <td>Fiber optic</td>\n",
       "      <td>Yes</td>\n",
       "      <td>Yes</td>\n",
       "      <td>No</td>\n",
       "      <td>One year</td>\n",
       "      <td>Credit card (automatic)</td>\n",
       "      <td>103.20</td>\n",
       "      <td>7362.90</td>\n",
       "      <td>No</td>\n",
       "      <td>2</td>\n",
       "      <td>1</td>\n",
       "      <td>2</td>\n",
       "      <td>2</td>\n",
       "      <td>0</td>\n",
       "      <td>1</td>\n",
       "      <td>1</td>\n",
       "      <td>0</td>\n",
       "    </tr>\n",
       "    <tr>\n",
       "      <th>7041</th>\n",
       "      <td>11</td>\n",
       "      <td>No phone service</td>\n",
       "      <td>DSL</td>\n",
       "      <td>No</td>\n",
       "      <td>No</td>\n",
       "      <td>No</td>\n",
       "      <td>Month-to-month</td>\n",
       "      <td>Electronic check</td>\n",
       "      <td>29.60</td>\n",
       "      <td>346.45</td>\n",
       "      <td>No</td>\n",
       "      <td>1</td>\n",
       "      <td>0</td>\n",
       "      <td>0</td>\n",
       "      <td>0</td>\n",
       "      <td>0</td>\n",
       "      <td>0</td>\n",
       "      <td>2</td>\n",
       "      <td>0</td>\n",
       "    </tr>\n",
       "    <tr>\n",
       "      <th>7042</th>\n",
       "      <td>4</td>\n",
       "      <td>Yes</td>\n",
       "      <td>Fiber optic</td>\n",
       "      <td>No</td>\n",
       "      <td>No</td>\n",
       "      <td>No</td>\n",
       "      <td>Month-to-month</td>\n",
       "      <td>Mailed check</td>\n",
       "      <td>74.40</td>\n",
       "      <td>306.60</td>\n",
       "      <td>Yes</td>\n",
       "      <td>2</td>\n",
       "      <td>1</td>\n",
       "      <td>0</td>\n",
       "      <td>0</td>\n",
       "      <td>0</td>\n",
       "      <td>0</td>\n",
       "      <td>3</td>\n",
       "      <td>1</td>\n",
       "    </tr>\n",
       "    <tr>\n",
       "      <th>7043</th>\n",
       "      <td>66</td>\n",
       "      <td>No</td>\n",
       "      <td>Fiber optic</td>\n",
       "      <td>No</td>\n",
       "      <td>Yes</td>\n",
       "      <td>Yes</td>\n",
       "      <td>Two year</td>\n",
       "      <td>Bank transfer (automatic)</td>\n",
       "      <td>105.65</td>\n",
       "      <td>6844.50</td>\n",
       "      <td>No</td>\n",
       "      <td>0</td>\n",
       "      <td>1</td>\n",
       "      <td>0</td>\n",
       "      <td>2</td>\n",
       "      <td>2</td>\n",
       "      <td>2</td>\n",
       "      <td>0</td>\n",
       "      <td>0</td>\n",
       "    </tr>\n",
       "  </tbody>\n",
       "</table>\n",
       "<p>7044 rows × 19 columns</p>\n",
       "</div>"
      ],
      "text/plain": [
       "      tenure    Multiple Lines Internet Service Online Backup  \\\n",
       "0          1  No phone service              DSL           Yes   \n",
       "1          1  No phone service              DSL           Yes   \n",
       "2         34                No              DSL            No   \n",
       "3          2                No              DSL           Yes   \n",
       "4         45  No phone service              DSL            No   \n",
       "...      ...               ...              ...           ...   \n",
       "7039      24               Yes              DSL            No   \n",
       "7040      72               Yes      Fiber optic           Yes   \n",
       "7041      11  No phone service              DSL            No   \n",
       "7042       4               Yes      Fiber optic            No   \n",
       "7043      66                No      Fiber optic            No   \n",
       "\n",
       "     Device Protection Tech Support        Contract  \\\n",
       "0                   No           No  Month-to-month   \n",
       "1                   No           No  Month-to-month   \n",
       "2                  Yes           No        One year   \n",
       "3                   No           No  Month-to-month   \n",
       "4                  Yes          Yes        One year   \n",
       "...                ...          ...             ...   \n",
       "7039               Yes          Yes        One year   \n",
       "7040               Yes           No        One year   \n",
       "7041                No           No  Month-to-month   \n",
       "7042                No           No  Month-to-month   \n",
       "7043               Yes          Yes        Two year   \n",
       "\n",
       "                 Payment Method  Monthly Charges  Total Charges Churn  \\\n",
       "0              Electronic check            29.85          29.85    No   \n",
       "1              Electronic check            29.85          29.85    No   \n",
       "2                  Mailed check            56.95        1889.50    No   \n",
       "3                  Mailed check            53.85         108.15   Yes   \n",
       "4     Bank transfer (automatic)            42.30        1840.75    No   \n",
       "...                         ...              ...            ...   ...   \n",
       "7039               Mailed check            84.80        1990.50    No   \n",
       "7040    Credit card (automatic)           103.20        7362.90    No   \n",
       "7041           Electronic check            29.60         346.45    No   \n",
       "7042               Mailed check            74.40         306.60   Yes   \n",
       "7043  Bank transfer (automatic)           105.65        6844.50    No   \n",
       "\n",
       "      Multiple_lines  Internet_service  online_backup  device_protection  \\\n",
       "0                  1                 0              2                  0   \n",
       "1                  1                 0              2                  0   \n",
       "2                  0                 0              0                  2   \n",
       "3                  0                 0              2                  0   \n",
       "4                  1                 0              0                  2   \n",
       "...              ...               ...            ...                ...   \n",
       "7039               2                 0              0                  2   \n",
       "7040               2                 1              2                  2   \n",
       "7041               1                 0              0                  0   \n",
       "7042               2                 1              0                  0   \n",
       "7043               0                 1              0                  2   \n",
       "\n",
       "      tech_support  contract_encoder  payment_method  churned_mapped  \n",
       "0                0                 0               2               0  \n",
       "1                0                 0               2               0  \n",
       "2                0                 1               3               0  \n",
       "3                0                 0               3               1  \n",
       "4                2                 1               0               0  \n",
       "...            ...               ...             ...             ...  \n",
       "7039             2                 1               3               0  \n",
       "7040             0                 1               1               0  \n",
       "7041             0                 0               2               0  \n",
       "7042             0                 0               3               1  \n",
       "7043             2                 2               0               0  \n",
       "\n",
       "[7044 rows x 19 columns]"
      ]
     },
     "execution_count": 26,
     "metadata": {},
     "output_type": "execute_result"
    }
   ],
   "source": [
    "churn_mapping = {'Yes':1,'No':0}\n",
    "ch['churned_mapped'] = ch['Churn'].map(churn_mapping)\n",
    "ch"
   ]
  },
  {
   "cell_type": "code",
   "execution_count": 27,
   "id": "5fe9da2b-3606-48e2-8e54-712d8b135cdf",
   "metadata": {
    "scrolled": true
   },
   "outputs": [
    {
     "name": "stdout",
     "output_type": "stream",
     "text": [
      "<class 'pandas.core.frame.DataFrame'>\n",
      "RangeIndex: 7044 entries, 0 to 7043\n",
      "Data columns (total 19 columns):\n",
      " #   Column             Non-Null Count  Dtype  \n",
      "---  ------             --------------  -----  \n",
      " 0   tenure             7044 non-null   int64  \n",
      " 1   Multiple Lines     7044 non-null   object \n",
      " 2   Internet Service   7044 non-null   object \n",
      " 3   Online Backup      7044 non-null   object \n",
      " 4   Device Protection  7044 non-null   object \n",
      " 5   Tech Support       7044 non-null   object \n",
      " 6   Contract           7044 non-null   object \n",
      " 7   Payment Method     7044 non-null   object \n",
      " 8   Monthly Charges    7044 non-null   float64\n",
      " 9   Total Charges      7033 non-null   float64\n",
      " 10  Churn              7044 non-null   object \n",
      " 11  Multiple_lines     7044 non-null   int32  \n",
      " 12  Internet_service   7044 non-null   int32  \n",
      " 13  online_backup      7044 non-null   int32  \n",
      " 14  device_protection  7044 non-null   int32  \n",
      " 15  tech_support       7044 non-null   int32  \n",
      " 16  contract_encoder   7044 non-null   int32  \n",
      " 17  payment_method     7044 non-null   int32  \n",
      " 18  churned_mapped     7044 non-null   int64  \n",
      "dtypes: float64(2), int32(7), int64(2), object(8)\n",
      "memory usage: 853.1+ KB\n"
     ]
    }
   ],
   "source": [
    "ch.info()"
   ]
  },
  {
   "cell_type": "code",
   "execution_count": 28,
   "id": "c6a46fae-adce-485a-929d-09325d5a4a65",
   "metadata": {},
   "outputs": [],
   "source": [
    "ch.drop(['Multiple Lines','Internet Service','Online Backup','Device Protection','Tech Support','Contract','Payment Method','Churn'],inplace = True, axis=1)"
   ]
  },
  {
   "cell_type": "code",
   "execution_count": 29,
   "id": "bd723fca-9950-45d9-8d0d-0ba026103603",
   "metadata": {},
   "outputs": [],
   "source": [
    "# x is independent\n",
    "x = ch.drop(['churned_mapped'], axis=1)"
   ]
  },
  {
   "cell_type": "code",
   "execution_count": 30,
   "id": "677e0f1d-a35c-4abd-9ec7-e3967fc2fef9",
   "metadata": {},
   "outputs": [],
   "source": [
    "y = ch['churned_mapped']"
   ]
  },
  {
   "cell_type": "code",
   "execution_count": 31,
   "id": "8a3beb30-9f6c-4203-b0a2-06196dbb9a9e",
   "metadata": {},
   "outputs": [
    {
     "name": "stdout",
     "output_type": "stream",
     "text": [
      "      tenure  Monthly Charges  Total Charges  Multiple_lines  \\\n",
      "0          1            29.85          29.85               1   \n",
      "1          1            29.85          29.85               1   \n",
      "2         34            56.95        1889.50               0   \n",
      "3          2            53.85         108.15               0   \n",
      "4         45            42.30        1840.75               1   \n",
      "...      ...              ...            ...             ...   \n",
      "7039      24            84.80        1990.50               2   \n",
      "7040      72           103.20        7362.90               2   \n",
      "7041      11            29.60         346.45               1   \n",
      "7042       4            74.40         306.60               2   \n",
      "7043      66           105.65        6844.50               0   \n",
      "\n",
      "      Internet_service  online_backup  device_protection  tech_support  \\\n",
      "0                    0              2                  0             0   \n",
      "1                    0              2                  0             0   \n",
      "2                    0              0                  2             0   \n",
      "3                    0              2                  0             0   \n",
      "4                    0              0                  2             2   \n",
      "...                ...            ...                ...           ...   \n",
      "7039                 0              0                  2             2   \n",
      "7040                 1              2                  2             0   \n",
      "7041                 0              0                  0             0   \n",
      "7042                 1              0                  0             0   \n",
      "7043                 1              0                  2             2   \n",
      "\n",
      "      contract_encoder  payment_method  \n",
      "0                    0               2  \n",
      "1                    0               2  \n",
      "2                    1               3  \n",
      "3                    0               3  \n",
      "4                    1               0  \n",
      "...                ...             ...  \n",
      "7039                 1               3  \n",
      "7040                 1               1  \n",
      "7041                 0               2  \n",
      "7042                 0               3  \n",
      "7043                 2               0  \n",
      "\n",
      "[7044 rows x 10 columns]\n"
     ]
    }
   ],
   "source": [
    "print(x)"
   ]
  },
  {
   "cell_type": "code",
   "execution_count": 32,
   "id": "8efce1ef-33a5-4c8a-ac12-b517ed34755c",
   "metadata": {},
   "outputs": [
    {
     "name": "stdout",
     "output_type": "stream",
     "text": [
      "0       0\n",
      "1       0\n",
      "2       0\n",
      "3       1\n",
      "4       0\n",
      "       ..\n",
      "7039    0\n",
      "7040    0\n",
      "7041    0\n",
      "7042    1\n",
      "7043    0\n",
      "Name: churned_mapped, Length: 7044, dtype: int64\n"
     ]
    }
   ],
   "source": [
    "print(y)"
   ]
  },
  {
   "cell_type": "code",
   "execution_count": 33,
   "id": "0092ddc3-02d7-4b50-bc75-f3d0353de5b5",
   "metadata": {},
   "outputs": [
    {
     "data": {
      "text/html": [
       "<div>\n",
       "<style scoped>\n",
       "    .dataframe tbody tr th:only-of-type {\n",
       "        vertical-align: middle;\n",
       "    }\n",
       "\n",
       "    .dataframe tbody tr th {\n",
       "        vertical-align: top;\n",
       "    }\n",
       "\n",
       "    .dataframe thead th {\n",
       "        text-align: right;\n",
       "    }\n",
       "</style>\n",
       "<table border=\"1\" class=\"dataframe\">\n",
       "  <thead>\n",
       "    <tr style=\"text-align: right;\">\n",
       "      <th></th>\n",
       "      <th>tenure</th>\n",
       "      <th>Monthly Charges</th>\n",
       "      <th>Total Charges</th>\n",
       "      <th>Multiple_lines</th>\n",
       "      <th>Internet_service</th>\n",
       "      <th>online_backup</th>\n",
       "      <th>device_protection</th>\n",
       "      <th>tech_support</th>\n",
       "      <th>contract_encoder</th>\n",
       "      <th>payment_method</th>\n",
       "    </tr>\n",
       "  </thead>\n",
       "  <tbody>\n",
       "    <tr>\n",
       "      <th>0</th>\n",
       "      <td>1</td>\n",
       "      <td>29.85</td>\n",
       "      <td>29.85</td>\n",
       "      <td>1</td>\n",
       "      <td>0</td>\n",
       "      <td>2</td>\n",
       "      <td>0</td>\n",
       "      <td>0</td>\n",
       "      <td>0</td>\n",
       "      <td>2</td>\n",
       "    </tr>\n",
       "    <tr>\n",
       "      <th>1</th>\n",
       "      <td>1</td>\n",
       "      <td>29.85</td>\n",
       "      <td>29.85</td>\n",
       "      <td>1</td>\n",
       "      <td>0</td>\n",
       "      <td>2</td>\n",
       "      <td>0</td>\n",
       "      <td>0</td>\n",
       "      <td>0</td>\n",
       "      <td>2</td>\n",
       "    </tr>\n",
       "    <tr>\n",
       "      <th>2</th>\n",
       "      <td>34</td>\n",
       "      <td>56.95</td>\n",
       "      <td>1889.50</td>\n",
       "      <td>0</td>\n",
       "      <td>0</td>\n",
       "      <td>0</td>\n",
       "      <td>2</td>\n",
       "      <td>0</td>\n",
       "      <td>1</td>\n",
       "      <td>3</td>\n",
       "    </tr>\n",
       "    <tr>\n",
       "      <th>3</th>\n",
       "      <td>2</td>\n",
       "      <td>53.85</td>\n",
       "      <td>108.15</td>\n",
       "      <td>0</td>\n",
       "      <td>0</td>\n",
       "      <td>2</td>\n",
       "      <td>0</td>\n",
       "      <td>0</td>\n",
       "      <td>0</td>\n",
       "      <td>3</td>\n",
       "    </tr>\n",
       "    <tr>\n",
       "      <th>4</th>\n",
       "      <td>45</td>\n",
       "      <td>42.30</td>\n",
       "      <td>1840.75</td>\n",
       "      <td>1</td>\n",
       "      <td>0</td>\n",
       "      <td>0</td>\n",
       "      <td>2</td>\n",
       "      <td>2</td>\n",
       "      <td>1</td>\n",
       "      <td>0</td>\n",
       "    </tr>\n",
       "    <tr>\n",
       "      <th>...</th>\n",
       "      <td>...</td>\n",
       "      <td>...</td>\n",
       "      <td>...</td>\n",
       "      <td>...</td>\n",
       "      <td>...</td>\n",
       "      <td>...</td>\n",
       "      <td>...</td>\n",
       "      <td>...</td>\n",
       "      <td>...</td>\n",
       "      <td>...</td>\n",
       "    </tr>\n",
       "    <tr>\n",
       "      <th>7039</th>\n",
       "      <td>24</td>\n",
       "      <td>84.80</td>\n",
       "      <td>1990.50</td>\n",
       "      <td>2</td>\n",
       "      <td>0</td>\n",
       "      <td>0</td>\n",
       "      <td>2</td>\n",
       "      <td>2</td>\n",
       "      <td>1</td>\n",
       "      <td>3</td>\n",
       "    </tr>\n",
       "    <tr>\n",
       "      <th>7040</th>\n",
       "      <td>72</td>\n",
       "      <td>103.20</td>\n",
       "      <td>7362.90</td>\n",
       "      <td>2</td>\n",
       "      <td>1</td>\n",
       "      <td>2</td>\n",
       "      <td>2</td>\n",
       "      <td>0</td>\n",
       "      <td>1</td>\n",
       "      <td>1</td>\n",
       "    </tr>\n",
       "    <tr>\n",
       "      <th>7041</th>\n",
       "      <td>11</td>\n",
       "      <td>29.60</td>\n",
       "      <td>346.45</td>\n",
       "      <td>1</td>\n",
       "      <td>0</td>\n",
       "      <td>0</td>\n",
       "      <td>0</td>\n",
       "      <td>0</td>\n",
       "      <td>0</td>\n",
       "      <td>2</td>\n",
       "    </tr>\n",
       "    <tr>\n",
       "      <th>7042</th>\n",
       "      <td>4</td>\n",
       "      <td>74.40</td>\n",
       "      <td>306.60</td>\n",
       "      <td>2</td>\n",
       "      <td>1</td>\n",
       "      <td>0</td>\n",
       "      <td>0</td>\n",
       "      <td>0</td>\n",
       "      <td>0</td>\n",
       "      <td>3</td>\n",
       "    </tr>\n",
       "    <tr>\n",
       "      <th>7043</th>\n",
       "      <td>66</td>\n",
       "      <td>105.65</td>\n",
       "      <td>6844.50</td>\n",
       "      <td>0</td>\n",
       "      <td>1</td>\n",
       "      <td>0</td>\n",
       "      <td>2</td>\n",
       "      <td>2</td>\n",
       "      <td>2</td>\n",
       "      <td>0</td>\n",
       "    </tr>\n",
       "  </tbody>\n",
       "</table>\n",
       "<p>7044 rows × 10 columns</p>\n",
       "</div>"
      ],
      "text/plain": [
       "      tenure  Monthly Charges  Total Charges  Multiple_lines  \\\n",
       "0          1            29.85          29.85               1   \n",
       "1          1            29.85          29.85               1   \n",
       "2         34            56.95        1889.50               0   \n",
       "3          2            53.85         108.15               0   \n",
       "4         45            42.30        1840.75               1   \n",
       "...      ...              ...            ...             ...   \n",
       "7039      24            84.80        1990.50               2   \n",
       "7040      72           103.20        7362.90               2   \n",
       "7041      11            29.60         346.45               1   \n",
       "7042       4            74.40         306.60               2   \n",
       "7043      66           105.65        6844.50               0   \n",
       "\n",
       "      Internet_service  online_backup  device_protection  tech_support  \\\n",
       "0                    0              2                  0             0   \n",
       "1                    0              2                  0             0   \n",
       "2                    0              0                  2             0   \n",
       "3                    0              2                  0             0   \n",
       "4                    0              0                  2             2   \n",
       "...                ...            ...                ...           ...   \n",
       "7039                 0              0                  2             2   \n",
       "7040                 1              2                  2             0   \n",
       "7041                 0              0                  0             0   \n",
       "7042                 1              0                  0             0   \n",
       "7043                 1              0                  2             2   \n",
       "\n",
       "      contract_encoder  payment_method  \n",
       "0                    0               2  \n",
       "1                    0               2  \n",
       "2                    1               3  \n",
       "3                    0               3  \n",
       "4                    1               0  \n",
       "...                ...             ...  \n",
       "7039                 1               3  \n",
       "7040                 1               1  \n",
       "7041                 0               2  \n",
       "7042                 0               3  \n",
       "7043                 2               0  \n",
       "\n",
       "[7044 rows x 10 columns]"
      ]
     },
     "execution_count": 33,
     "metadata": {},
     "output_type": "execute_result"
    }
   ],
   "source": [
    "x"
   ]
  },
  {
   "cell_type": "code",
   "execution_count": 34,
   "id": "e0d94770-9480-4b0f-9c08-4e2824c525ab",
   "metadata": {},
   "outputs": [
    {
     "data": {
      "text/plain": [
       "0       0\n",
       "1       0\n",
       "2       0\n",
       "3       1\n",
       "4       0\n",
       "       ..\n",
       "7039    0\n",
       "7040    0\n",
       "7041    0\n",
       "7042    1\n",
       "7043    0\n",
       "Name: churned_mapped, Length: 7044, dtype: int64"
      ]
     },
     "execution_count": 34,
     "metadata": {},
     "output_type": "execute_result"
    }
   ],
   "source": [
    "y"
   ]
  },
  {
   "cell_type": "code",
   "execution_count": 35,
   "id": "4a7ea643-a8ea-4df0-9f76-cac89a42e820",
   "metadata": {},
   "outputs": [
    {
     "name": "stdout",
     "output_type": "stream",
     "text": [
      "<class 'pandas.core.frame.DataFrame'>\n",
      "RangeIndex: 7044 entries, 0 to 7043\n",
      "Data columns (total 11 columns):\n",
      " #   Column             Non-Null Count  Dtype  \n",
      "---  ------             --------------  -----  \n",
      " 0   tenure             7044 non-null   int64  \n",
      " 1   Monthly Charges    7044 non-null   float64\n",
      " 2   Total Charges      7033 non-null   float64\n",
      " 3   Multiple_lines     7044 non-null   int32  \n",
      " 4   Internet_service   7044 non-null   int32  \n",
      " 5   online_backup      7044 non-null   int32  \n",
      " 6   device_protection  7044 non-null   int32  \n",
      " 7   tech_support       7044 non-null   int32  \n",
      " 8   contract_encoder   7044 non-null   int32  \n",
      " 9   payment_method     7044 non-null   int32  \n",
      " 10  churned_mapped     7044 non-null   int64  \n",
      "dtypes: float64(2), int32(7), int64(2)\n",
      "memory usage: 412.9 KB\n"
     ]
    }
   ],
   "source": [
    "ch.info()"
   ]
  },
  {
   "cell_type": "code",
   "execution_count": 36,
   "id": "242f52ec-6358-4b53-ad02-a7903e3c1fba",
   "metadata": {},
   "outputs": [],
   "source": [
    "x['Total Charges'].fillna(x['Total Charges'].mean(),inplace=True)"
   ]
  },
  {
   "cell_type": "code",
   "execution_count": 37,
   "id": "fda2e7aa-64ab-475c-824e-d33d86f35e8a",
   "metadata": {},
   "outputs": [
    {
     "name": "stdout",
     "output_type": "stream",
     "text": [
      "<class 'pandas.core.frame.DataFrame'>\n",
      "RangeIndex: 7044 entries, 0 to 7043\n",
      "Data columns (total 11 columns):\n",
      " #   Column             Non-Null Count  Dtype  \n",
      "---  ------             --------------  -----  \n",
      " 0   tenure             7044 non-null   int64  \n",
      " 1   Monthly Charges    7044 non-null   float64\n",
      " 2   Total Charges      7033 non-null   float64\n",
      " 3   Multiple_lines     7044 non-null   int32  \n",
      " 4   Internet_service   7044 non-null   int32  \n",
      " 5   online_backup      7044 non-null   int32  \n",
      " 6   device_protection  7044 non-null   int32  \n",
      " 7   tech_support       7044 non-null   int32  \n",
      " 8   contract_encoder   7044 non-null   int32  \n",
      " 9   payment_method     7044 non-null   int32  \n",
      " 10  churned_mapped     7044 non-null   int64  \n",
      "dtypes: float64(2), int32(7), int64(2)\n",
      "memory usage: 412.9 KB\n"
     ]
    }
   ],
   "source": [
    "ch.info()"
   ]
  },
  {
   "cell_type": "code",
   "execution_count": 38,
   "id": "2c1e4374-71e5-4965-87a8-8e22748f4c31",
   "metadata": {},
   "outputs": [],
   "source": [
    "from sklearn.model_selection import train_test_split\n",
    "x_train, x_test, y_train, y_test = train_test_split(x,y, test_size = 0.25)"
   ]
  },
  {
   "cell_type": "code",
   "execution_count": 39,
   "id": "099dab84-89c4-47b3-92b6-d5ec7d9a3abe",
   "metadata": {},
   "outputs": [
    {
     "name": "stdout",
     "output_type": "stream",
     "text": [
      "0.7921635434412265\n",
      "[0 0 1 ... 0 0 0]\n"
     ]
    }
   ],
   "source": [
    "from sklearn.linear_model import LogisticRegression\n",
    "from sklearn.metrics import accuracy_score\n",
    "\n",
    "model = LogisticRegression()\n",
    "\n",
    "# model fitting\n",
    "model.fit(x_train, y_train)    #training the model by 75% and fitting it to the model ('fit' keyword is used to train - 'fit' is a function)\n",
    "\n",
    "# testing the model \n",
    "pred = model.predict(x_test)   #testing the model by 25% ('predict' keyword is used to test - 'predict' is a function)\n",
    "\n",
    "# model accuracy\n",
    "print(accuracy_score(y_test, pred))\n",
    "print(pred)"
   ]
  },
  {
   "cell_type": "code",
   "execution_count": 40,
   "id": "d6c6c9a0-3c89-4ab4-a47a-fec0e62b0334",
   "metadata": {},
   "outputs": [
    {
     "data": {
      "text/plain": [
       "churned_mapped\n",
       "0    5175\n",
       "1    1869\n",
       "Name: count, dtype: int64"
      ]
     },
     "execution_count": 40,
     "metadata": {},
     "output_type": "execute_result"
    }
   ],
   "source": [
    "y.value_counts()\n",
    "# there is no balance so it causes overfitting and underfitting"
   ]
  },
  {
   "cell_type": "code",
   "execution_count": 41,
   "id": "9924d1ab-973a-424a-b444-d4fa65aeeadf",
   "metadata": {},
   "outputs": [],
   "source": [
    "# 3 technique is used to balancing dataset:\n",
    "# 1. under sampling (use pandas) -> work for majority class -> removing data after taking sampling - not good for large dataset\n",
    "# 2. oversampling (use pandas) -> work for minority class -> automatically makes a small no. of values to more - not good for large dataset\n",
    "# 3. iblearn (use sklearn)"
   ]
  },
  {
   "cell_type": "code",
   "execution_count": 42,
   "id": "06882de1-4652-4cba-a194-02d2614869ca",
   "metadata": {},
   "outputs": [
    {
     "name": "stdout",
     "output_type": "stream",
     "text": [
      "5175\n"
     ]
    }
   ],
   "source": [
    "count_class_0, count_class_1 = ch.churned_mapped.value_counts()\n",
    "# in count_class_0 and count_class_1 only number of values are stored\n",
    "print(count_class_0)\n",
    "\n",
    "# divide by class\n",
    "ch_class_0 = ch[ch['churned_mapped'] == 0]\n",
    "ch_class_1 = ch[ch['churned_mapped'] == 1]\n",
    "\n",
    "# but in ch_class_0 and ch_class_1 it stores the actual values"
   ]
  },
  {
   "cell_type": "code",
   "execution_count": 43,
   "id": "d5de0e25-88bb-4e73-aab6-deef397cba81",
   "metadata": {},
   "outputs": [
    {
     "data": {
      "text/plain": [
       "(5175, 11)"
      ]
     },
     "execution_count": 43,
     "metadata": {},
     "output_type": "execute_result"
    }
   ],
   "source": [
    "ch_class_0.shape"
   ]
  },
  {
   "cell_type": "code",
   "execution_count": 44,
   "id": "266c9514-b8bf-4c87-b702-cc09631af828",
   "metadata": {},
   "outputs": [
    {
     "data": {
      "text/plain": [
       "(1869, 11)"
      ]
     },
     "execution_count": 44,
     "metadata": {},
     "output_type": "execute_result"
    }
   ],
   "source": [
    "ch_class_1.shape"
   ]
  },
  {
   "cell_type": "code",
   "execution_count": 45,
   "id": "4f19b013-bb6b-48dd-afb5-9e8ddc411816",
   "metadata": {},
   "outputs": [
    {
     "name": "stdout",
     "output_type": "stream",
     "text": [
      "Random under-sampling:\n",
      "churned_mapped\n",
      "0    1869\n",
      "1    1869\n",
      "Name: count, dtype: int64\n"
     ]
    }
   ],
   "source": [
    "# undersample 0-class and concat the DataFrame of both class\n",
    "a = ch_class_0.sample(count_class_1)   # it will give number of samples based on count_class_1 and will store in 'a'\n",
    "\n",
    "# axis=0 -> rows\n",
    "# axis=1 -> column\n",
    "\n",
    "ch_test_under = pd.concat([a, ch_class_1], axis=0)  # concating both the 'a' variable and class 1 as every data in the dataset is inbalanced\n",
    "print('Random under-sampling:')\n",
    "print(ch_test_under.churned_mapped.value_counts()) # checking 1 particyular column to cheack whether it is balanced or not"
   ]
  },
  {
   "cell_type": "code",
   "execution_count": 46,
   "id": "1323976a-78f4-4948-abcd-43c2c4d27eea",
   "metadata": {},
   "outputs": [
    {
     "data": {
      "text/html": [
       "<div>\n",
       "<style scoped>\n",
       "    .dataframe tbody tr th:only-of-type {\n",
       "        vertical-align: middle;\n",
       "    }\n",
       "\n",
       "    .dataframe tbody tr th {\n",
       "        vertical-align: top;\n",
       "    }\n",
       "\n",
       "    .dataframe thead th {\n",
       "        text-align: right;\n",
       "    }\n",
       "</style>\n",
       "<table border=\"1\" class=\"dataframe\">\n",
       "  <thead>\n",
       "    <tr style=\"text-align: right;\">\n",
       "      <th></th>\n",
       "      <th>tenure</th>\n",
       "      <th>Monthly Charges</th>\n",
       "      <th>Total Charges</th>\n",
       "      <th>Multiple_lines</th>\n",
       "      <th>Internet_service</th>\n",
       "      <th>online_backup</th>\n",
       "      <th>device_protection</th>\n",
       "      <th>tech_support</th>\n",
       "      <th>contract_encoder</th>\n",
       "      <th>payment_method</th>\n",
       "      <th>churned_mapped</th>\n",
       "    </tr>\n",
       "  </thead>\n",
       "  <tbody>\n",
       "    <tr>\n",
       "      <th>4392</th>\n",
       "      <td>9</td>\n",
       "      <td>59.50</td>\n",
       "      <td>530.05</td>\n",
       "      <td>0</td>\n",
       "      <td>0</td>\n",
       "      <td>0</td>\n",
       "      <td>0</td>\n",
       "      <td>2</td>\n",
       "      <td>0</td>\n",
       "      <td>0</td>\n",
       "      <td>0</td>\n",
       "    </tr>\n",
       "    <tr>\n",
       "      <th>1143</th>\n",
       "      <td>11</td>\n",
       "      <td>75.20</td>\n",
       "      <td>775.30</td>\n",
       "      <td>2</td>\n",
       "      <td>1</td>\n",
       "      <td>0</td>\n",
       "      <td>0</td>\n",
       "      <td>0</td>\n",
       "      <td>0</td>\n",
       "      <td>1</td>\n",
       "      <td>0</td>\n",
       "    </tr>\n",
       "    <tr>\n",
       "      <th>594</th>\n",
       "      <td>30</td>\n",
       "      <td>84.30</td>\n",
       "      <td>2438.60</td>\n",
       "      <td>0</td>\n",
       "      <td>1</td>\n",
       "      <td>2</td>\n",
       "      <td>2</td>\n",
       "      <td>0</td>\n",
       "      <td>0</td>\n",
       "      <td>1</td>\n",
       "      <td>0</td>\n",
       "    </tr>\n",
       "    <tr>\n",
       "      <th>3180</th>\n",
       "      <td>27</td>\n",
       "      <td>19.60</td>\n",
       "      <td>561.15</td>\n",
       "      <td>0</td>\n",
       "      <td>2</td>\n",
       "      <td>1</td>\n",
       "      <td>1</td>\n",
       "      <td>1</td>\n",
       "      <td>2</td>\n",
       "      <td>3</td>\n",
       "      <td>0</td>\n",
       "    </tr>\n",
       "    <tr>\n",
       "      <th>2485</th>\n",
       "      <td>12</td>\n",
       "      <td>20.50</td>\n",
       "      <td>255.50</td>\n",
       "      <td>0</td>\n",
       "      <td>2</td>\n",
       "      <td>1</td>\n",
       "      <td>1</td>\n",
       "      <td>1</td>\n",
       "      <td>0</td>\n",
       "      <td>3</td>\n",
       "      <td>0</td>\n",
       "    </tr>\n",
       "    <tr>\n",
       "      <th>...</th>\n",
       "      <td>...</td>\n",
       "      <td>...</td>\n",
       "      <td>...</td>\n",
       "      <td>...</td>\n",
       "      <td>...</td>\n",
       "      <td>...</td>\n",
       "      <td>...</td>\n",
       "      <td>...</td>\n",
       "      <td>...</td>\n",
       "      <td>...</td>\n",
       "      <td>...</td>\n",
       "    </tr>\n",
       "    <tr>\n",
       "      <th>1793</th>\n",
       "      <td>42</td>\n",
       "      <td>69.40</td>\n",
       "      <td>3058.30</td>\n",
       "      <td>2</td>\n",
       "      <td>0</td>\n",
       "      <td>2</td>\n",
       "      <td>0</td>\n",
       "      <td>0</td>\n",
       "      <td>0</td>\n",
       "      <td>0</td>\n",
       "      <td>0</td>\n",
       "    </tr>\n",
       "    <tr>\n",
       "      <th>5693</th>\n",
       "      <td>9</td>\n",
       "      <td>54.80</td>\n",
       "      <td>452.80</td>\n",
       "      <td>0</td>\n",
       "      <td>0</td>\n",
       "      <td>2</td>\n",
       "      <td>0</td>\n",
       "      <td>2</td>\n",
       "      <td>0</td>\n",
       "      <td>3</td>\n",
       "      <td>0</td>\n",
       "    </tr>\n",
       "    <tr>\n",
       "      <th>6541</th>\n",
       "      <td>34</td>\n",
       "      <td>64.35</td>\n",
       "      <td>2053.05</td>\n",
       "      <td>0</td>\n",
       "      <td>0</td>\n",
       "      <td>2</td>\n",
       "      <td>0</td>\n",
       "      <td>0</td>\n",
       "      <td>1</td>\n",
       "      <td>2</td>\n",
       "      <td>0</td>\n",
       "    </tr>\n",
       "    <tr>\n",
       "      <th>6670</th>\n",
       "      <td>35</td>\n",
       "      <td>99.05</td>\n",
       "      <td>3554.60</td>\n",
       "      <td>2</td>\n",
       "      <td>1</td>\n",
       "      <td>0</td>\n",
       "      <td>0</td>\n",
       "      <td>0</td>\n",
       "      <td>0</td>\n",
       "      <td>2</td>\n",
       "      <td>0</td>\n",
       "    </tr>\n",
       "    <tr>\n",
       "      <th>3204</th>\n",
       "      <td>72</td>\n",
       "      <td>88.05</td>\n",
       "      <td>6520.80</td>\n",
       "      <td>2</td>\n",
       "      <td>0</td>\n",
       "      <td>2</td>\n",
       "      <td>2</td>\n",
       "      <td>2</td>\n",
       "      <td>2</td>\n",
       "      <td>0</td>\n",
       "      <td>0</td>\n",
       "    </tr>\n",
       "  </tbody>\n",
       "</table>\n",
       "<p>1869 rows × 11 columns</p>\n",
       "</div>"
      ],
      "text/plain": [
       "      tenure  Monthly Charges  Total Charges  Multiple_lines  \\\n",
       "4392       9            59.50         530.05               0   \n",
       "1143      11            75.20         775.30               2   \n",
       "594       30            84.30        2438.60               0   \n",
       "3180      27            19.60         561.15               0   \n",
       "2485      12            20.50         255.50               0   \n",
       "...      ...              ...            ...             ...   \n",
       "1793      42            69.40        3058.30               2   \n",
       "5693       9            54.80         452.80               0   \n",
       "6541      34            64.35        2053.05               0   \n",
       "6670      35            99.05        3554.60               2   \n",
       "3204      72            88.05        6520.80               2   \n",
       "\n",
       "      Internet_service  online_backup  device_protection  tech_support  \\\n",
       "4392                 0              0                  0             2   \n",
       "1143                 1              0                  0             0   \n",
       "594                  1              2                  2             0   \n",
       "3180                 2              1                  1             1   \n",
       "2485                 2              1                  1             1   \n",
       "...                ...            ...                ...           ...   \n",
       "1793                 0              2                  0             0   \n",
       "5693                 0              2                  0             2   \n",
       "6541                 0              2                  0             0   \n",
       "6670                 1              0                  0             0   \n",
       "3204                 0              2                  2             2   \n",
       "\n",
       "      contract_encoder  payment_method  churned_mapped  \n",
       "4392                 0               0               0  \n",
       "1143                 0               1               0  \n",
       "594                  0               1               0  \n",
       "3180                 2               3               0  \n",
       "2485                 0               3               0  \n",
       "...                ...             ...             ...  \n",
       "1793                 0               0               0  \n",
       "5693                 0               3               0  \n",
       "6541                 1               2               0  \n",
       "6670                 0               2               0  \n",
       "3204                 2               0               0  \n",
       "\n",
       "[1869 rows x 11 columns]"
      ]
     },
     "execution_count": 46,
     "metadata": {},
     "output_type": "execute_result"
    }
   ],
   "source": [
    "a"
   ]
  },
  {
   "cell_type": "code",
   "execution_count": 47,
   "id": "d3cc91a3-0af9-464b-8244-b2ba8c640572",
   "metadata": {},
   "outputs": [
    {
     "data": {
      "text/plain": [
       "tenure  Monthly Charges  Total Charges  Multiple_lines  Internet_service  online_backup  device_protection  tech_support  contract_encoder  payment_method  churned_mapped\n",
       "1       69.60            69.60          0               1                 0              0                  0             0                 2               1                 4\n",
       "        20.20            20.20          0               2                 1              1                  1             0                 3               1                 4\n",
       "        69.65            69.65          0               1                 0              0                  0             0                 2               1                 4\n",
       "        20.15            20.15          0               2                 1              1                  1             0                 3               1                 3\n",
       "        19.90            19.90          0               2                 1              1                  1             0                 3               1                 3\n",
       "                                                                                                                                                                             ..\n",
       "10      79.25            793.55         0               1                 0              0                  0             0                 2               1                 1\n",
       "        79.95            857.20         0               1                 0              0                  0             0                 2               1                 1\n",
       "        80.05            830.70         2               1                 2              0                  0             0                 0               1                 1\n",
       "        80.25            846.00         0               1                 0              0                  0             0                 0               1                 1\n",
       "72      117.80           8684.80        2               1                 2              2                  2             1                 0               1                 1\n",
       "Name: count, Length: 3670, dtype: int64"
      ]
     },
     "execution_count": 47,
     "metadata": {},
     "output_type": "execute_result"
    }
   ],
   "source": [
    "ch_test_under.value_counts()"
   ]
  },
  {
   "cell_type": "code",
   "execution_count": 48,
   "id": "9aefdb7d-44ee-4f0b-8472-2185912fb6a1",
   "metadata": {},
   "outputs": [],
   "source": [
    "x = ch_test_under.drop(['churned_mapped'], axis=1)"
   ]
  },
  {
   "cell_type": "code",
   "execution_count": 49,
   "id": "abd6af6a-6b4e-41a5-ad81-7e857f7e3892",
   "metadata": {},
   "outputs": [],
   "source": [
    "y = ch_test_under['churned_mapped']"
   ]
  },
  {
   "cell_type": "code",
   "execution_count": 50,
   "id": "9c76fdcd-182e-4550-9dc5-f4845393c012",
   "metadata": {},
   "outputs": [],
   "source": [
    "from sklearn.model_selection import train_test_split\n",
    "x_train, x_test, y_train, y_test = train_test_split(x,y, test_size = 0.25)"
   ]
  },
  {
   "cell_type": "code",
   "execution_count": 51,
   "id": "b4cc8c74-9e0c-4cf8-9892-98c733415b46",
   "metadata": {},
   "outputs": [],
   "source": [
    "# from sklearn.linear_model import LogisticRegression\n",
    "# from sklearn.metrics import accuracy_score\n",
    "\n",
    "# model = LogisticRegression()\n",
    "\n",
    "# # model fitting\n",
    "# model.fit(x_train, y_train)    #training the model by 75% and fitting it to the model ('fit' keyword is used to train - 'fit' is a function)\n",
    "\n",
    "# # testing the model \n",
    "# pred = model.predict(x_test)   #testing the model by 25% ('predict' keyword is used to test - 'predict' is a function)\n",
    "\n",
    "# # model accuracy\n",
    "# print(accuracy_score(y_test, pred))\n",
    "# print(pred)"
   ]
  },
  {
   "cell_type": "code",
   "execution_count": 52,
   "id": "a64c5ab3-57bb-4aff-8eb1-696760240295",
   "metadata": {},
   "outputs": [
    {
     "name": "stdout",
     "output_type": "stream",
     "text": [
      "<class 'pandas.core.frame.DataFrame'>\n",
      "Index: 3738 entries, 4392 to 7042\n",
      "Data columns (total 11 columns):\n",
      " #   Column             Non-Null Count  Dtype  \n",
      "---  ------             --------------  -----  \n",
      " 0   tenure             3738 non-null   int64  \n",
      " 1   Monthly Charges    3738 non-null   float64\n",
      " 2   Total Charges      3733 non-null   float64\n",
      " 3   Multiple_lines     3738 non-null   int32  \n",
      " 4   Internet_service   3738 non-null   int32  \n",
      " 5   online_backup      3738 non-null   int32  \n",
      " 6   device_protection  3738 non-null   int32  \n",
      " 7   tech_support       3738 non-null   int32  \n",
      " 8   contract_encoder   3738 non-null   int32  \n",
      " 9   payment_method     3738 non-null   int32  \n",
      " 10  churned_mapped     3738 non-null   int64  \n",
      "dtypes: float64(2), int32(7), int64(2)\n",
      "memory usage: 248.2 KB\n"
     ]
    }
   ],
   "source": [
    "ch_test_under.info()"
   ]
  },
  {
   "cell_type": "code",
   "execution_count": 53,
   "id": "87da38f5-6b7e-4ea9-af33-40b3c33233a8",
   "metadata": {},
   "outputs": [],
   "source": [
    "ch_test_under['Total Charges'].fillna(ch_test_under['Total Charges'].mean(),inplace=True)"
   ]
  },
  {
   "cell_type": "code",
   "execution_count": 54,
   "id": "ab06cdc2-1433-4791-9e7b-6d419d3c61c9",
   "metadata": {},
   "outputs": [],
   "source": [
    "x['Total Charges'].fillna(x['Total Charges'].mean(),inplace=True)"
   ]
  },
  {
   "cell_type": "code",
   "execution_count": 55,
   "id": "cb01bd9c-9ee7-4d2d-9185-8082743d7656",
   "metadata": {},
   "outputs": [
    {
     "name": "stdout",
     "output_type": "stream",
     "text": [
      "<class 'pandas.core.frame.DataFrame'>\n",
      "Index: 3738 entries, 4392 to 7042\n",
      "Data columns (total 11 columns):\n",
      " #   Column             Non-Null Count  Dtype  \n",
      "---  ------             --------------  -----  \n",
      " 0   tenure             3738 non-null   int64  \n",
      " 1   Monthly Charges    3738 non-null   float64\n",
      " 2   Total Charges      3738 non-null   float64\n",
      " 3   Multiple_lines     3738 non-null   int32  \n",
      " 4   Internet_service   3738 non-null   int32  \n",
      " 5   online_backup      3738 non-null   int32  \n",
      " 6   device_protection  3738 non-null   int32  \n",
      " 7   tech_support       3738 non-null   int32  \n",
      " 8   contract_encoder   3738 non-null   int32  \n",
      " 9   payment_method     3738 non-null   int32  \n",
      " 10  churned_mapped     3738 non-null   int64  \n",
      "dtypes: float64(2), int32(7), int64(2)\n",
      "memory usage: 248.2 KB\n"
     ]
    }
   ],
   "source": [
    "ch_test_under.info()"
   ]
  },
  {
   "cell_type": "code",
   "execution_count": 56,
   "id": "c2c030b8-3253-4fc6-bd45-9ebf37e2bfde",
   "metadata": {},
   "outputs": [],
   "source": [
    "from sklearn.model_selection import train_test_split\n",
    "x_train, x_test, y_train, y_test = train_test_split(x,y, test_size = 0.25)"
   ]
  },
  {
   "cell_type": "code",
   "execution_count": 57,
   "id": "54340ea3-2c5f-46b5-95bd-d3e85b179d82",
   "metadata": {},
   "outputs": [
    {
     "name": "stdout",
     "output_type": "stream",
     "text": [
      "0.7614973262032085\n",
      "[0 1 0 1 1 1 0 1 1 0 0 0 1 0 0 1 0 1 0 0 0 0 0 1 0 1 0 1 0 1 0 1 1 1 0 1 0\n",
      " 0 1 1 0 0 0 0 0 1 1 1 0 1 0 1 1 0 0 0 1 1 0 0 1 0 1 1 0 1 1 0 0 1 0 1 0 1\n",
      " 0 0 1 1 1 0 0 0 1 0 1 1 1 0 1 0 1 0 0 1 1 0 1 1 1 0 1 0 0 0 0 0 1 1 1 1 0\n",
      " 0 1 1 0 1 1 1 1 0 0 1 1 1 1 0 1 0 0 0 1 1 0 1 1 1 0 1 0 0 1 1 1 0 1 0 0 1\n",
      " 0 1 1 1 0 1 1 1 1 0 1 1 1 1 1 1 0 0 0 1 0 1 1 1 0 1 1 1 0 1 1 1 0 0 1 0 1\n",
      " 1 0 1 1 1 0 0 0 1 1 0 1 1 1 0 0 1 1 1 0 0 1 0 0 0 1 0 0 1 1 0 1 0 0 1 0 1\n",
      " 0 1 0 0 1 0 0 0 0 1 0 0 0 0 0 1 1 1 1 1 1 1 1 1 1 0 1 1 0 0 0 0 0 1 1 1 0\n",
      " 0 0 1 0 1 1 1 0 1 0 1 1 1 1 1 1 1 0 0 0 0 1 0 0 1 0 1 0 0 0 0 1 0 0 1 1 0\n",
      " 0 0 1 0 1 1 1 0 0 0 1 0 1 0 1 1 0 1 1 0 0 0 1 0 0 1 1 1 0 1 1 0 1 0 0 1 0\n",
      " 0 1 1 0 0 0 1 1 0 1 0 1 0 1 0 0 0 1 0 1 0 1 0 0 0 1 1 1 0 1 1 1 0 0 1 0 0\n",
      " 0 1 1 1 1 0 0 1 1 0 1 1 0 0 1 1 1 1 0 1 0 1 1 1 0 1 1 0 1 0 0 0 1 0 0 1 0\n",
      " 1 1 0 1 1 1 0 1 0 1 1 1 1 0 1 1 0 1 0 1 0 1 1 0 0 0 0 0 1 1 0 0 0 0 0 0 0\n",
      " 0 0 1 1 1 0 1 1 1 1 0 0 0 1 0 0 1 1 0 0 1 1 1 1 1 1 0 0 0 1 1 1 1 1 1 1 0\n",
      " 1 1 1 0 0 1 0 0 0 1 0 0 0 1 1 1 0 0 1 0 1 1 0 0 1 1 1 0 0 0 0 0 0 0 0 1 0\n",
      " 1 1 0 0 1 0 0 1 0 0 0 1 0 1 0 1 0 0 1 0 0 1 1 1 0 1 0 1 1 1 0 1 1 1 1 1 0\n",
      " 0 0 1 0 1 1 1 0 1 0 1 0 0 0 0 1 1 1 1 0 0 0 0 1 1 1 1 0 1 0 1 1 1 1 1 1 0\n",
      " 1 1 0 1 1 0 1 1 1 0 1 1 1 0 0 0 1 1 1 1 0 1 0 0 0 0 1 0 1 1 1 1 1 1 0 1 1\n",
      " 1 0 1 1 0 1 0 0 0 0 1 1 0 1 1 0 1 1 0 0 1 0 1 1 1 0 1 0 1 1 1 0 1 0 1 1 0\n",
      " 0 1 1 1 1 0 0 1 1 1 1 0 0 1 1 1 1 1 0 1 1 1 1 0 0 1 1 1 1 1 0 0 0 0 1 0 1\n",
      " 1 0 0 1 1 1 1 0 1 0 1 0 1 1 1 0 1 1 0 1 1 0 0 1 0 1 0 0 0 0 0 1 0 1 1 1 0\n",
      " 0 1 0 0 0 1 0 1 1 0 1 1 1 0 1 0 1 1 0 0 0 1 0 0 0 1 0 1 1 1 1 0 1 0 0 1 1\n",
      " 1 0 0 0 1 1 0 0 1 0 0 1 1 1 1 1 0 1 1 1 0 0 0 1 1 0 1 1 1 1 1 0 1 0 1 1 0\n",
      " 0 0 0 1 0 0 1 0 1 0 0 1 1 1 1 0 1 0 1 1 1 1 1 1 0 1 0 1 0 1 0 1 0 0 0 1 1\n",
      " 1 0 1 1 1 1 0 1 1 0 0 0 1 0 0 0 1 0 1 1 0 1 1 0 1 1 1 0 1 0 0 0 1 1 1 1 0\n",
      " 1 1 0 0 0 1 1 1 0 0 1 1 1 1 1 1 0 0 0 0 0 1 1 1 1 1 1 0 1 0 0 0 0 1 0 1 0\n",
      " 0 1 0 1 1 0 1 1 1 1]\n"
     ]
    }
   ],
   "source": [
    "from sklearn.linear_model import LogisticRegression\n",
    "from sklearn.metrics import accuracy_score\n",
    "\n",
    "model = LogisticRegression()\n",
    "\n",
    "# model fitting\n",
    "model.fit(x_train, y_train)    #training the model by 75% and fitting it to the model ('fit' keyword is used to train - 'fit' is a function)\n",
    "\n",
    "# testing the model \n",
    "pred = model.predict(x_test)   #testing the model by 25% ('predict' keyword is used to test - 'predict' is a function)\n",
    "\n",
    "# model accuracy\n",
    "print(accuracy_score(y_test, pred))\n",
    "print(pred)"
   ]
  },
  {
   "cell_type": "code",
   "execution_count": 58,
   "id": "2d0fca8c-4984-4ded-aedd-2743150a63f8",
   "metadata": {},
   "outputs": [
    {
     "name": "stdout",
     "output_type": "stream",
     "text": [
      "Random over-sampling:\n",
      "churned_mapped\n",
      "0    5175\n",
      "1    5175\n",
      "Name: count, dtype: int64\n"
     ]
    }
   ],
   "source": [
    "# oversampling 1-class and concat the DataFrames of both classes\n",
    "ch_class_1_over = ch_class_1.sample(count_class_0, replace = True)  # 'replace' -> when you require duplicates you can use 'replace'\n",
    "ch_test_over = pd.concat([ch_class_0, ch_class_1_over], axis=0)\n",
    "\n",
    "print('Random over-sampling:')\n",
    "print(ch_test_over.churned_mapped.value_counts())"
   ]
  },
  {
   "cell_type": "code",
   "execution_count": 59,
   "id": "a77b01aa-19be-4b4d-bbec-d8bf6d367c17",
   "metadata": {},
   "outputs": [],
   "source": [
    "x = ch_test_over.drop(['churned_mapped'], axis=1)"
   ]
  },
  {
   "cell_type": "code",
   "execution_count": 60,
   "id": "4f56e9d3-23af-4677-becb-e1a1e69ebc09",
   "metadata": {},
   "outputs": [],
   "source": [
    "y = ch_test_over['churned_mapped']"
   ]
  },
  {
   "cell_type": "code",
   "execution_count": 61,
   "id": "94294e8b-7141-4d8c-acfb-4880db1d386a",
   "metadata": {},
   "outputs": [
    {
     "name": "stdout",
     "output_type": "stream",
     "text": [
      "<class 'pandas.core.frame.DataFrame'>\n",
      "Index: 10350 entries, 0 to 6044\n",
      "Data columns (total 11 columns):\n",
      " #   Column             Non-Null Count  Dtype  \n",
      "---  ------             --------------  -----  \n",
      " 0   tenure             10350 non-null  int64  \n",
      " 1   Monthly Charges    10350 non-null  float64\n",
      " 2   Total Charges      10339 non-null  float64\n",
      " 3   Multiple_lines     10350 non-null  int32  \n",
      " 4   Internet_service   10350 non-null  int32  \n",
      " 5   online_backup      10350 non-null  int32  \n",
      " 6   device_protection  10350 non-null  int32  \n",
      " 7   tech_support       10350 non-null  int32  \n",
      " 8   contract_encoder   10350 non-null  int32  \n",
      " 9   payment_method     10350 non-null  int32  \n",
      " 10  churned_mapped     10350 non-null  int64  \n",
      "dtypes: float64(2), int32(7), int64(2)\n",
      "memory usage: 687.3 KB\n"
     ]
    }
   ],
   "source": [
    "ch_test_over.info()"
   ]
  },
  {
   "cell_type": "code",
   "execution_count": 62,
   "id": "b50bd0b3-af07-4f60-9cec-43a08950930c",
   "metadata": {},
   "outputs": [],
   "source": [
    "ch_test_over['Total Charges'].fillna(ch_test_over['Total Charges'].mean(),inplace=True)"
   ]
  },
  {
   "cell_type": "code",
   "execution_count": 63,
   "id": "c03d1694-d354-49b5-9489-846ee6fa2e54",
   "metadata": {},
   "outputs": [],
   "source": [
    "x['Total Charges'].fillna(x['Total Charges'].mean(),inplace=True)"
   ]
  },
  {
   "cell_type": "code",
   "execution_count": 64,
   "id": "6511142a-588e-4b02-9021-37369cad6ef9",
   "metadata": {},
   "outputs": [
    {
     "name": "stdout",
     "output_type": "stream",
     "text": [
      "<class 'pandas.core.frame.DataFrame'>\n",
      "Index: 10350 entries, 0 to 6044\n",
      "Data columns (total 11 columns):\n",
      " #   Column             Non-Null Count  Dtype  \n",
      "---  ------             --------------  -----  \n",
      " 0   tenure             10350 non-null  int64  \n",
      " 1   Monthly Charges    10350 non-null  float64\n",
      " 2   Total Charges      10350 non-null  float64\n",
      " 3   Multiple_lines     10350 non-null  int32  \n",
      " 4   Internet_service   10350 non-null  int32  \n",
      " 5   online_backup      10350 non-null  int32  \n",
      " 6   device_protection  10350 non-null  int32  \n",
      " 7   tech_support       10350 non-null  int32  \n",
      " 8   contract_encoder   10350 non-null  int32  \n",
      " 9   payment_method     10350 non-null  int32  \n",
      " 10  churned_mapped     10350 non-null  int64  \n",
      "dtypes: float64(2), int32(7), int64(2)\n",
      "memory usage: 687.3 KB\n"
     ]
    }
   ],
   "source": [
    "ch_test_over.info()"
   ]
  },
  {
   "cell_type": "code",
   "execution_count": 65,
   "id": "e6063d52-a3a8-426b-b27d-84d344ada70a",
   "metadata": {},
   "outputs": [],
   "source": [
    "from sklearn.model_selection import train_test_split\n",
    "x_train, x_test, y_train, y_test = train_test_split(x,y, test_size = 0.25)"
   ]
  },
  {
   "cell_type": "code",
   "execution_count": 66,
   "id": "10e262dc-0cdf-4118-9e4f-9973d91ed543",
   "metadata": {},
   "outputs": [
    {
     "name": "stdout",
     "output_type": "stream",
     "text": [
      "0.7380216383307573\n",
      "[1 1 1 ... 0 1 0]\n"
     ]
    }
   ],
   "source": [
    "from sklearn.linear_model import LogisticRegression\n",
    "from sklearn.metrics import accuracy_score\n",
    "\n",
    "model = LogisticRegression()\n",
    "\n",
    "# model fitting\n",
    "model.fit(x_train, y_train)    #training the model by 75% and fitting it to the model ('fit' keyword is used to train - 'fit' is a function)\n",
    "\n",
    "# testing the model \n",
    "pred = model.predict(x_test)   #testing the model by 25% ('predict' keyword is used to test - 'predict' is a function)\n",
    "\n",
    "# model accuracy\n",
    "print(accuracy_score(y_test, pred))\n",
    "print(pred)"
   ]
  },
  {
   "cell_type": "code",
   "execution_count": 67,
   "id": "f7b26d66-660c-4e6a-bd66-94fae356ccc8",
   "metadata": {},
   "outputs": [],
   "source": [
    "# pip install scikit-learn ==1.2.2"
   ]
  },
  {
   "cell_type": "code",
   "execution_count": 68,
   "id": "70880898-fd25-404a-aecf-1b7f6e1a7bb4",
   "metadata": {},
   "outputs": [],
   "source": [
    "# pip install -u imbalanced-learn"
   ]
  },
  {
   "cell_type": "code",
   "execution_count": 69,
   "id": "e08590b4-b610-4572-8a79-441ebb70cddc",
   "metadata": {},
   "outputs": [
    {
     "data": {
      "text/plain": [
       "churned_mapped\n",
       "0    5175\n",
       "1    5175\n",
       "Name: count, dtype: int64"
      ]
     },
     "execution_count": 69,
     "metadata": {},
     "output_type": "execute_result"
    }
   ],
   "source": [
    "# imblearn\n",
    "# SMOTE - Synthetic Minority Oversampling Technique [making minority class to majority(similar to oversampling)] - work for minority\n",
    "# first identify minority, then it will focus on it and automatically balance both class \n",
    "# like for eg if we have values like 1,2,3,4,5,etc then it will give values similarly like 3.1,3.2,etc\n",
    "# no duplicates (disadvantages of oversampling)\n",
    "# no data loss (disadvantages of undersampling)\n",
    "\n",
    "from imblearn.over_sampling import SMOTE  \n",
    "\n",
    "# initialize SMOTE with a sampling strategy (you can adjust it as needed)\n",
    "smote = SMOTE(sampling_strategy='auto')\n",
    "\n",
    "# apply SMOTE to resample the dataset\n",
    "x_resampled, y_resampled = smote.fit_resample(x,y)\n",
    "y_resampled.value_counts()"
   ]
  },
  {
   "cell_type": "code",
   "execution_count": 70,
   "id": "a8cfd33d-f580-40e5-b436-c1267e2c60b2",
   "metadata": {},
   "outputs": [
    {
     "name": "stdout",
     "output_type": "stream",
     "text": [
      "<class 'pandas.core.series.Series'>\n",
      "RangeIndex: 10350 entries, 0 to 10349\n",
      "Series name: churned_mapped\n",
      "Non-Null Count  Dtype\n",
      "--------------  -----\n",
      "10350 non-null  int64\n",
      "dtypes: int64(1)\n",
      "memory usage: 81.0 KB\n"
     ]
    }
   ],
   "source": [
    "y_resampled.info()"
   ]
  },
  {
   "cell_type": "code",
   "execution_count": 71,
   "id": "a748cd05-14df-4930-94d4-59433f35f54c",
   "metadata": {},
   "outputs": [
    {
     "name": "stdout",
     "output_type": "stream",
     "text": [
      "<class 'pandas.core.frame.DataFrame'>\n",
      "RangeIndex: 10350 entries, 0 to 10349\n",
      "Data columns (total 10 columns):\n",
      " #   Column             Non-Null Count  Dtype  \n",
      "---  ------             --------------  -----  \n",
      " 0   tenure             10350 non-null  int64  \n",
      " 1   Monthly Charges    10350 non-null  float64\n",
      " 2   Total Charges      10350 non-null  float64\n",
      " 3   Multiple_lines     10350 non-null  int32  \n",
      " 4   Internet_service   10350 non-null  int32  \n",
      " 5   online_backup      10350 non-null  int32  \n",
      " 6   device_protection  10350 non-null  int32  \n",
      " 7   tech_support       10350 non-null  int32  \n",
      " 8   contract_encoder   10350 non-null  int32  \n",
      " 9   payment_method     10350 non-null  int32  \n",
      "dtypes: float64(2), int32(7), int64(1)\n",
      "memory usage: 525.7 KB\n"
     ]
    }
   ],
   "source": [
    "x_resampled.info()"
   ]
  },
  {
   "cell_type": "code",
   "execution_count": 72,
   "id": "6fefb51b-b3e1-4c85-bcb2-8613cc76445e",
   "metadata": {},
   "outputs": [
    {
     "name": "stdout",
     "output_type": "stream",
     "text": [
      "<class 'pandas.core.frame.DataFrame'>\n",
      "Index: 10350 entries, 0 to 6044\n",
      "Data columns (total 10 columns):\n",
      " #   Column             Non-Null Count  Dtype  \n",
      "---  ------             --------------  -----  \n",
      " 0   tenure             10350 non-null  int64  \n",
      " 1   Monthly Charges    10350 non-null  float64\n",
      " 2   Total Charges      10350 non-null  float64\n",
      " 3   Multiple_lines     10350 non-null  int32  \n",
      " 4   Internet_service   10350 non-null  int32  \n",
      " 5   online_backup      10350 non-null  int32  \n",
      " 6   device_protection  10350 non-null  int32  \n",
      " 7   tech_support       10350 non-null  int32  \n",
      " 8   contract_encoder   10350 non-null  int32  \n",
      " 9   payment_method     10350 non-null  int32  \n",
      "dtypes: float64(2), int32(7), int64(1)\n",
      "memory usage: 606.4 KB\n"
     ]
    }
   ],
   "source": [
    "x.info()"
   ]
  },
  {
   "cell_type": "code",
   "execution_count": 73,
   "id": "37449825-cf62-4345-9267-091137ec76d1",
   "metadata": {},
   "outputs": [],
   "source": [
    "from sklearn.model_selection import train_test_split\n",
    "x_train, x_test, y_train, y_test = train_test_split(x_resampled,y_resampled, test_size = 0.25)"
   ]
  },
  {
   "cell_type": "code",
   "execution_count": 74,
   "id": "60def388-7865-49f0-9155-0111e9098682",
   "metadata": {},
   "outputs": [
    {
     "name": "stdout",
     "output_type": "stream",
     "text": [
      "0.7623647604327666\n",
      "[1 1 1 ... 1 1 0]\n"
     ]
    }
   ],
   "source": [
    "from sklearn.linear_model import LogisticRegression\n",
    "from sklearn.metrics import accuracy_score\n",
    "\n",
    "model = LogisticRegression()\n",
    "\n",
    "# model fitting\n",
    "model.fit(x_train, y_train)    #training the model by 75% and fitting it to the model ('fit' keyword is used to train - 'fit' is a function)\n",
    "\n",
    "# testing the model \n",
    "pred = model.predict(x_test)   #testing the model by 25% ('predict' keyword is used to test - 'predict' is a function)\n",
    "\n",
    "# model accuracy\n",
    "print(accuracy_score(y_test, pred))\n",
    "print(pred)"
   ]
  },
  {
   "cell_type": "code",
   "execution_count": 75,
   "id": "630ea83e-1d3f-49b8-9198-3637a8d775e3",
   "metadata": {},
   "outputs": [],
   "source": [
    "# SVM"
   ]
  },
  {
   "cell_type": "code",
   "execution_count": 76,
   "id": "114bb9e9-b985-4d39-aa1c-a594531e60f8",
   "metadata": {},
   "outputs": [],
   "source": [
    "from sklearn.svm import SVC\n",
    "import pickle"
   ]
  },
  {
   "cell_type": "code",
   "execution_count": 77,
   "id": "3d2f264b-a261-4edb-baf8-dad0bdc87ad8",
   "metadata": {},
   "outputs": [],
   "source": [
    "x_train, x_test, y_train, y_test = train_test_split(x_resampled,y_resampled, test_size = 0.25)"
   ]
  },
  {
   "cell_type": "code",
   "execution_count": 78,
   "id": "5cb2f7ab-de75-4a7b-9ae9-d93b169b8196",
   "metadata": {},
   "outputs": [],
   "source": [
    "model2 = SVC() #using default RBF kernel"
   ]
  },
  {
   "cell_type": "code",
   "execution_count": 79,
   "id": "b55f958c-d9f8-4ca5-81cc-54c8524e159f",
   "metadata": {},
   "outputs": [
    {
     "data": {
      "text/html": [
       "<style>#sk-container-id-1 {color: black;background-color: white;}#sk-container-id-1 pre{padding: 0;}#sk-container-id-1 div.sk-toggleable {background-color: white;}#sk-container-id-1 label.sk-toggleable__label {cursor: pointer;display: block;width: 100%;margin-bottom: 0;padding: 0.3em;box-sizing: border-box;text-align: center;}#sk-container-id-1 label.sk-toggleable__label-arrow:before {content: \"▸\";float: left;margin-right: 0.25em;color: #696969;}#sk-container-id-1 label.sk-toggleable__label-arrow:hover:before {color: black;}#sk-container-id-1 div.sk-estimator:hover label.sk-toggleable__label-arrow:before {color: black;}#sk-container-id-1 div.sk-toggleable__content {max-height: 0;max-width: 0;overflow: hidden;text-align: left;background-color: #f0f8ff;}#sk-container-id-1 div.sk-toggleable__content pre {margin: 0.2em;color: black;border-radius: 0.25em;background-color: #f0f8ff;}#sk-container-id-1 input.sk-toggleable__control:checked~div.sk-toggleable__content {max-height: 200px;max-width: 100%;overflow: auto;}#sk-container-id-1 input.sk-toggleable__control:checked~label.sk-toggleable__label-arrow:before {content: \"▾\";}#sk-container-id-1 div.sk-estimator input.sk-toggleable__control:checked~label.sk-toggleable__label {background-color: #d4ebff;}#sk-container-id-1 div.sk-label input.sk-toggleable__control:checked~label.sk-toggleable__label {background-color: #d4ebff;}#sk-container-id-1 input.sk-hidden--visually {border: 0;clip: rect(1px 1px 1px 1px);clip: rect(1px, 1px, 1px, 1px);height: 1px;margin: -1px;overflow: hidden;padding: 0;position: absolute;width: 1px;}#sk-container-id-1 div.sk-estimator {font-family: monospace;background-color: #f0f8ff;border: 1px dotted black;border-radius: 0.25em;box-sizing: border-box;margin-bottom: 0.5em;}#sk-container-id-1 div.sk-estimator:hover {background-color: #d4ebff;}#sk-container-id-1 div.sk-parallel-item::after {content: \"\";width: 100%;border-bottom: 1px solid gray;flex-grow: 1;}#sk-container-id-1 div.sk-label:hover label.sk-toggleable__label {background-color: #d4ebff;}#sk-container-id-1 div.sk-serial::before {content: \"\";position: absolute;border-left: 1px solid gray;box-sizing: border-box;top: 0;bottom: 0;left: 50%;z-index: 0;}#sk-container-id-1 div.sk-serial {display: flex;flex-direction: column;align-items: center;background-color: white;padding-right: 0.2em;padding-left: 0.2em;position: relative;}#sk-container-id-1 div.sk-item {position: relative;z-index: 1;}#sk-container-id-1 div.sk-parallel {display: flex;align-items: stretch;justify-content: center;background-color: white;position: relative;}#sk-container-id-1 div.sk-item::before, #sk-container-id-1 div.sk-parallel-item::before {content: \"\";position: absolute;border-left: 1px solid gray;box-sizing: border-box;top: 0;bottom: 0;left: 50%;z-index: -1;}#sk-container-id-1 div.sk-parallel-item {display: flex;flex-direction: column;z-index: 1;position: relative;background-color: white;}#sk-container-id-1 div.sk-parallel-item:first-child::after {align-self: flex-end;width: 50%;}#sk-container-id-1 div.sk-parallel-item:last-child::after {align-self: flex-start;width: 50%;}#sk-container-id-1 div.sk-parallel-item:only-child::after {width: 0;}#sk-container-id-1 div.sk-dashed-wrapped {border: 1px dashed gray;margin: 0 0.4em 0.5em 0.4em;box-sizing: border-box;padding-bottom: 0.4em;background-color: white;}#sk-container-id-1 div.sk-label label {font-family: monospace;font-weight: bold;display: inline-block;line-height: 1.2em;}#sk-container-id-1 div.sk-label-container {text-align: center;}#sk-container-id-1 div.sk-container {/* jupyter's `normalize.less` sets `[hidden] { display: none; }` but bootstrap.min.css set `[hidden] { display: none !important; }` so we also need the `!important` here to be able to override the default hidden behavior on the sphinx rendered scikit-learn.org. See: https://github.com/scikit-learn/scikit-learn/issues/21755 */display: inline-block !important;position: relative;}#sk-container-id-1 div.sk-text-repr-fallback {display: none;}</style><div id=\"sk-container-id-1\" class=\"sk-top-container\"><div class=\"sk-text-repr-fallback\"><pre>SVC()</pre><b>In a Jupyter environment, please rerun this cell to show the HTML representation or trust the notebook. <br />On GitHub, the HTML representation is unable to render, please try loading this page with nbviewer.org.</b></div><div class=\"sk-container\" hidden><div class=\"sk-item\"><div class=\"sk-estimator sk-toggleable\"><input class=\"sk-toggleable__control sk-hidden--visually\" id=\"sk-estimator-id-1\" type=\"checkbox\" checked><label for=\"sk-estimator-id-1\" class=\"sk-toggleable__label sk-toggleable__label-arrow\">SVC</label><div class=\"sk-toggleable__content\"><pre>SVC()</pre></div></div></div></div></div>"
      ],
      "text/plain": [
       "SVC()"
      ]
     },
     "execution_count": 79,
     "metadata": {},
     "output_type": "execute_result"
    }
   ],
   "source": [
    "model2.fit(x_train, y_train)"
   ]
  },
  {
   "cell_type": "code",
   "execution_count": 80,
   "id": "c511f6ee-04b6-4c72-9cb3-b53f9fcf3732",
   "metadata": {},
   "outputs": [],
   "source": [
    "# make predictions on the test set\n",
    "y_pred = model2.predict(x_test)"
   ]
  },
  {
   "cell_type": "code",
   "execution_count": 81,
   "id": "4e8adcf7-7da4-459a-964c-eb20d1275840",
   "metadata": {},
   "outputs": [
    {
     "name": "stdout",
     "output_type": "stream",
     "text": [
      "Acuuracy : 0.66\n"
     ]
    }
   ],
   "source": [
    "# evaluate the model\n",
    "accuracy = accuracy_score(y_test, y_pred)\n",
    "print(f\"Acuuracy : {accuracy:.2f}\")"
   ]
  },
  {
   "cell_type": "code",
   "execution_count": 82,
   "id": "e568e96e-e589-4a61-8ae0-90f3d3414954",
   "metadata": {},
   "outputs": [],
   "source": [
    "with open('churn_SVM.pkl','wb') as file:\n",
    "    pickle.dump(model2, file)"
   ]
  },
  {
   "cell_type": "code",
   "execution_count": 83,
   "id": "a1b9bc6e-98a5-4a97-8141-e3ff80e86da1",
   "metadata": {},
   "outputs": [],
   "source": [
    "# NAIVE BAYES"
   ]
  },
  {
   "cell_type": "code",
   "execution_count": 84,
   "id": "92f48cb9-d81c-4cd2-8d88-08524dee97c1",
   "metadata": {},
   "outputs": [],
   "source": [
    "from sklearn.naive_bayes import GaussianNB"
   ]
  },
  {
   "cell_type": "code",
   "execution_count": 85,
   "id": "7f020a58-7284-4204-b90a-66d418fc37b3",
   "metadata": {},
   "outputs": [],
   "source": [
    "x_train, x_test, y_train, y_test = train_test_split(x_resampled,y_resampled, test_size = 0.25)"
   ]
  },
  {
   "cell_type": "code",
   "execution_count": 86,
   "id": "6ba82ef4-79a4-4093-916c-490bc58ec291",
   "metadata": {},
   "outputs": [
    {
     "data": {
      "text/html": [
       "<style>#sk-container-id-2 {color: black;background-color: white;}#sk-container-id-2 pre{padding: 0;}#sk-container-id-2 div.sk-toggleable {background-color: white;}#sk-container-id-2 label.sk-toggleable__label {cursor: pointer;display: block;width: 100%;margin-bottom: 0;padding: 0.3em;box-sizing: border-box;text-align: center;}#sk-container-id-2 label.sk-toggleable__label-arrow:before {content: \"▸\";float: left;margin-right: 0.25em;color: #696969;}#sk-container-id-2 label.sk-toggleable__label-arrow:hover:before {color: black;}#sk-container-id-2 div.sk-estimator:hover label.sk-toggleable__label-arrow:before {color: black;}#sk-container-id-2 div.sk-toggleable__content {max-height: 0;max-width: 0;overflow: hidden;text-align: left;background-color: #f0f8ff;}#sk-container-id-2 div.sk-toggleable__content pre {margin: 0.2em;color: black;border-radius: 0.25em;background-color: #f0f8ff;}#sk-container-id-2 input.sk-toggleable__control:checked~div.sk-toggleable__content {max-height: 200px;max-width: 100%;overflow: auto;}#sk-container-id-2 input.sk-toggleable__control:checked~label.sk-toggleable__label-arrow:before {content: \"▾\";}#sk-container-id-2 div.sk-estimator input.sk-toggleable__control:checked~label.sk-toggleable__label {background-color: #d4ebff;}#sk-container-id-2 div.sk-label input.sk-toggleable__control:checked~label.sk-toggleable__label {background-color: #d4ebff;}#sk-container-id-2 input.sk-hidden--visually {border: 0;clip: rect(1px 1px 1px 1px);clip: rect(1px, 1px, 1px, 1px);height: 1px;margin: -1px;overflow: hidden;padding: 0;position: absolute;width: 1px;}#sk-container-id-2 div.sk-estimator {font-family: monospace;background-color: #f0f8ff;border: 1px dotted black;border-radius: 0.25em;box-sizing: border-box;margin-bottom: 0.5em;}#sk-container-id-2 div.sk-estimator:hover {background-color: #d4ebff;}#sk-container-id-2 div.sk-parallel-item::after {content: \"\";width: 100%;border-bottom: 1px solid gray;flex-grow: 1;}#sk-container-id-2 div.sk-label:hover label.sk-toggleable__label {background-color: #d4ebff;}#sk-container-id-2 div.sk-serial::before {content: \"\";position: absolute;border-left: 1px solid gray;box-sizing: border-box;top: 0;bottom: 0;left: 50%;z-index: 0;}#sk-container-id-2 div.sk-serial {display: flex;flex-direction: column;align-items: center;background-color: white;padding-right: 0.2em;padding-left: 0.2em;position: relative;}#sk-container-id-2 div.sk-item {position: relative;z-index: 1;}#sk-container-id-2 div.sk-parallel {display: flex;align-items: stretch;justify-content: center;background-color: white;position: relative;}#sk-container-id-2 div.sk-item::before, #sk-container-id-2 div.sk-parallel-item::before {content: \"\";position: absolute;border-left: 1px solid gray;box-sizing: border-box;top: 0;bottom: 0;left: 50%;z-index: -1;}#sk-container-id-2 div.sk-parallel-item {display: flex;flex-direction: column;z-index: 1;position: relative;background-color: white;}#sk-container-id-2 div.sk-parallel-item:first-child::after {align-self: flex-end;width: 50%;}#sk-container-id-2 div.sk-parallel-item:last-child::after {align-self: flex-start;width: 50%;}#sk-container-id-2 div.sk-parallel-item:only-child::after {width: 0;}#sk-container-id-2 div.sk-dashed-wrapped {border: 1px dashed gray;margin: 0 0.4em 0.5em 0.4em;box-sizing: border-box;padding-bottom: 0.4em;background-color: white;}#sk-container-id-2 div.sk-label label {font-family: monospace;font-weight: bold;display: inline-block;line-height: 1.2em;}#sk-container-id-2 div.sk-label-container {text-align: center;}#sk-container-id-2 div.sk-container {/* jupyter's `normalize.less` sets `[hidden] { display: none; }` but bootstrap.min.css set `[hidden] { display: none !important; }` so we also need the `!important` here to be able to override the default hidden behavior on the sphinx rendered scikit-learn.org. See: https://github.com/scikit-learn/scikit-learn/issues/21755 */display: inline-block !important;position: relative;}#sk-container-id-2 div.sk-text-repr-fallback {display: none;}</style><div id=\"sk-container-id-2\" class=\"sk-top-container\"><div class=\"sk-text-repr-fallback\"><pre>GaussianNB()</pre><b>In a Jupyter environment, please rerun this cell to show the HTML representation or trust the notebook. <br />On GitHub, the HTML representation is unable to render, please try loading this page with nbviewer.org.</b></div><div class=\"sk-container\" hidden><div class=\"sk-item\"><div class=\"sk-estimator sk-toggleable\"><input class=\"sk-toggleable__control sk-hidden--visually\" id=\"sk-estimator-id-2\" type=\"checkbox\" checked><label for=\"sk-estimator-id-2\" class=\"sk-toggleable__label sk-toggleable__label-arrow\">GaussianNB</label><div class=\"sk-toggleable__content\"><pre>GaussianNB()</pre></div></div></div></div></div>"
      ],
      "text/plain": [
       "GaussianNB()"
      ]
     },
     "execution_count": 86,
     "metadata": {},
     "output_type": "execute_result"
    }
   ],
   "source": [
    "# training the modelon tarining set\n",
    "model3 = GaussianNB()\n",
    "model3.fit(x_train, y_train)"
   ]
  },
  {
   "cell_type": "code",
   "execution_count": 87,
   "id": "9d871379-e64e-4116-b770-6f4106eb79d8",
   "metadata": {},
   "outputs": [],
   "source": [
    "# making predictions on the testing set\n",
    "y_pred = model3.predict(x_test)"
   ]
  },
  {
   "cell_type": "code",
   "execution_count": 88,
   "id": "1f2234fe-5c5a-452c-88c8-4ce5805c27fb",
   "metadata": {},
   "outputs": [
    {
     "name": "stdout",
     "output_type": "stream",
     "text": [
      "Acuuracy : 0.76\n"
     ]
    }
   ],
   "source": [
    "# evaluate the model\n",
    "accuracy = accuracy_score(y_test, y_pred)\n",
    "print(f\"Acuuracy : {accuracy:.2f}\")"
   ]
  },
  {
   "cell_type": "code",
   "execution_count": 89,
   "id": "d5570006-fb21-4ed8-a456-a4eb0789a514",
   "metadata": {},
   "outputs": [],
   "source": [
    "with open('ch_NaiveBayes.pkl','wb') as file:\n",
    "    pickle.dump(model3, file)"
   ]
  },
  {
   "cell_type": "code",
   "execution_count": 90,
   "id": "dc6c1bb5-06c6-48c7-a2f8-b7f42581610a",
   "metadata": {},
   "outputs": [],
   "source": [
    "# DECISION TREE"
   ]
  },
  {
   "cell_type": "code",
   "execution_count": 91,
   "id": "bfdcb896-6897-4c23-ab80-2eef99b6f877",
   "metadata": {},
   "outputs": [],
   "source": [
    "from sklearn.tree import DecisionTreeClassifier"
   ]
  },
  {
   "cell_type": "code",
   "execution_count": 92,
   "id": "683d8fa7-a7d4-406f-ad3a-a490756963dd",
   "metadata": {},
   "outputs": [],
   "source": [
    "x_train, x_test, y_train, y_test = train_test_split(x_resampled,y_resampled, test_size = 0.25)"
   ]
  },
  {
   "cell_type": "code",
   "execution_count": 93,
   "id": "78797c3b-14f0-4c23-96e9-8a3585a7cd84",
   "metadata": {},
   "outputs": [
    {
     "data": {
      "text/html": [
       "<style>#sk-container-id-3 {color: black;background-color: white;}#sk-container-id-3 pre{padding: 0;}#sk-container-id-3 div.sk-toggleable {background-color: white;}#sk-container-id-3 label.sk-toggleable__label {cursor: pointer;display: block;width: 100%;margin-bottom: 0;padding: 0.3em;box-sizing: border-box;text-align: center;}#sk-container-id-3 label.sk-toggleable__label-arrow:before {content: \"▸\";float: left;margin-right: 0.25em;color: #696969;}#sk-container-id-3 label.sk-toggleable__label-arrow:hover:before {color: black;}#sk-container-id-3 div.sk-estimator:hover label.sk-toggleable__label-arrow:before {color: black;}#sk-container-id-3 div.sk-toggleable__content {max-height: 0;max-width: 0;overflow: hidden;text-align: left;background-color: #f0f8ff;}#sk-container-id-3 div.sk-toggleable__content pre {margin: 0.2em;color: black;border-radius: 0.25em;background-color: #f0f8ff;}#sk-container-id-3 input.sk-toggleable__control:checked~div.sk-toggleable__content {max-height: 200px;max-width: 100%;overflow: auto;}#sk-container-id-3 input.sk-toggleable__control:checked~label.sk-toggleable__label-arrow:before {content: \"▾\";}#sk-container-id-3 div.sk-estimator input.sk-toggleable__control:checked~label.sk-toggleable__label {background-color: #d4ebff;}#sk-container-id-3 div.sk-label input.sk-toggleable__control:checked~label.sk-toggleable__label {background-color: #d4ebff;}#sk-container-id-3 input.sk-hidden--visually {border: 0;clip: rect(1px 1px 1px 1px);clip: rect(1px, 1px, 1px, 1px);height: 1px;margin: -1px;overflow: hidden;padding: 0;position: absolute;width: 1px;}#sk-container-id-3 div.sk-estimator {font-family: monospace;background-color: #f0f8ff;border: 1px dotted black;border-radius: 0.25em;box-sizing: border-box;margin-bottom: 0.5em;}#sk-container-id-3 div.sk-estimator:hover {background-color: #d4ebff;}#sk-container-id-3 div.sk-parallel-item::after {content: \"\";width: 100%;border-bottom: 1px solid gray;flex-grow: 1;}#sk-container-id-3 div.sk-label:hover label.sk-toggleable__label {background-color: #d4ebff;}#sk-container-id-3 div.sk-serial::before {content: \"\";position: absolute;border-left: 1px solid gray;box-sizing: border-box;top: 0;bottom: 0;left: 50%;z-index: 0;}#sk-container-id-3 div.sk-serial {display: flex;flex-direction: column;align-items: center;background-color: white;padding-right: 0.2em;padding-left: 0.2em;position: relative;}#sk-container-id-3 div.sk-item {position: relative;z-index: 1;}#sk-container-id-3 div.sk-parallel {display: flex;align-items: stretch;justify-content: center;background-color: white;position: relative;}#sk-container-id-3 div.sk-item::before, #sk-container-id-3 div.sk-parallel-item::before {content: \"\";position: absolute;border-left: 1px solid gray;box-sizing: border-box;top: 0;bottom: 0;left: 50%;z-index: -1;}#sk-container-id-3 div.sk-parallel-item {display: flex;flex-direction: column;z-index: 1;position: relative;background-color: white;}#sk-container-id-3 div.sk-parallel-item:first-child::after {align-self: flex-end;width: 50%;}#sk-container-id-3 div.sk-parallel-item:last-child::after {align-self: flex-start;width: 50%;}#sk-container-id-3 div.sk-parallel-item:only-child::after {width: 0;}#sk-container-id-3 div.sk-dashed-wrapped {border: 1px dashed gray;margin: 0 0.4em 0.5em 0.4em;box-sizing: border-box;padding-bottom: 0.4em;background-color: white;}#sk-container-id-3 div.sk-label label {font-family: monospace;font-weight: bold;display: inline-block;line-height: 1.2em;}#sk-container-id-3 div.sk-label-container {text-align: center;}#sk-container-id-3 div.sk-container {/* jupyter's `normalize.less` sets `[hidden] { display: none; }` but bootstrap.min.css set `[hidden] { display: none !important; }` so we also need the `!important` here to be able to override the default hidden behavior on the sphinx rendered scikit-learn.org. See: https://github.com/scikit-learn/scikit-learn/issues/21755 */display: inline-block !important;position: relative;}#sk-container-id-3 div.sk-text-repr-fallback {display: none;}</style><div id=\"sk-container-id-3\" class=\"sk-top-container\"><div class=\"sk-text-repr-fallback\"><pre>DecisionTreeClassifier()</pre><b>In a Jupyter environment, please rerun this cell to show the HTML representation or trust the notebook. <br />On GitHub, the HTML representation is unable to render, please try loading this page with nbviewer.org.</b></div><div class=\"sk-container\" hidden><div class=\"sk-item\"><div class=\"sk-estimator sk-toggleable\"><input class=\"sk-toggleable__control sk-hidden--visually\" id=\"sk-estimator-id-3\" type=\"checkbox\" checked><label for=\"sk-estimator-id-3\" class=\"sk-toggleable__label sk-toggleable__label-arrow\">DecisionTreeClassifier</label><div class=\"sk-toggleable__content\"><pre>DecisionTreeClassifier()</pre></div></div></div></div></div>"
      ],
      "text/plain": [
       "DecisionTreeClassifier()"
      ]
     },
     "execution_count": 93,
     "metadata": {},
     "output_type": "execute_result"
    }
   ],
   "source": [
    "model4 = DecisionTreeClassifier()\n",
    "model4.fit(x_train, y_train)"
   ]
  },
  {
   "cell_type": "code",
   "execution_count": 94,
   "id": "e08d42c2-8d7a-4ec8-afc9-7d8565567b27",
   "metadata": {},
   "outputs": [],
   "source": [
    "y_pred = model4.predict(x_test)"
   ]
  },
  {
   "cell_type": "code",
   "execution_count": 95,
   "id": "59d0d28d-e827-421c-896d-3f840a4971f7",
   "metadata": {},
   "outputs": [
    {
     "name": "stdout",
     "output_type": "stream",
     "text": [
      "Acuuracy : 0.87\n"
     ]
    }
   ],
   "source": [
    "accuracy = accuracy_score(y_test, y_pred)\n",
    "print(f\"Acuuracy : {accuracy:.2f}\")"
   ]
  },
  {
   "cell_type": "code",
   "execution_count": 96,
   "id": "9c8d621d-7cd0-45c6-9c33-610760e86296",
   "metadata": {},
   "outputs": [],
   "source": [
    "with open('ch_Decision.Tree.pkl','wb') as file:\n",
    "    pickle.dump(model4, file)"
   ]
  },
  {
   "cell_type": "code",
   "execution_count": null,
   "id": "23293bdc",
   "metadata": {},
   "outputs": [],
   "source": [
    "# Random Forest"
   ]
  },
  {
   "cell_type": "code",
   "execution_count": 102,
   "id": "91d86091-0e43-468f-8d4f-a6a4f36fd798",
   "metadata": {},
   "outputs": [
    {
     "name": "stdout",
     "output_type": "stream",
     "text": [
      "Acuuracy : 0.89\n"
     ]
    }
   ],
   "source": [
    "from sklearn.ensemble import RandomForestClassifier\n",
    "x_train, x_test, y_train, y_test = train_test_split(x,y,test_size=0.2)\n",
    "clf = RandomForestClassifier()\n",
    "clf.fit(x_train,y_train)\n",
    "y_pred = clf.predict(x_test)\n",
    "accuracy = accuracy_score(y_test, y_pred)\n",
    "print(f\"Acuuracy : {accuracy:.2f}\")"
   ]
  },
  {
   "cell_type": "code",
   "execution_count": 103,
   "id": "df5593be-ea4e-450c-b87e-47ae9a9e1d70",
   "metadata": {},
   "outputs": [],
   "source": [
    "with open(\"churn_rfc_model.pkl\",\"wb\") as f:\n",
    "    pickle.dump(clf,f)"
   ]
  },
  {
   "cell_type": "code",
   "execution_count": 97,
   "id": "13f056cb-4867-4ca7-ad16-e738f60eaace",
   "metadata": {},
   "outputs": [
    {
     "name": "stdout",
     "output_type": "stream",
     "text": [
      "<class 'pandas.core.frame.DataFrame'>\n",
      "RangeIndex: 7044 entries, 0 to 7043\n",
      "Data columns (total 11 columns):\n",
      " #   Column             Non-Null Count  Dtype  \n",
      "---  ------             --------------  -----  \n",
      " 0   tenure             7044 non-null   int64  \n",
      " 1   Monthly Charges    7044 non-null   float64\n",
      " 2   Total Charges      7033 non-null   float64\n",
      " 3   Multiple_lines     7044 non-null   int32  \n",
      " 4   Internet_service   7044 non-null   int32  \n",
      " 5   online_backup      7044 non-null   int32  \n",
      " 6   device_protection  7044 non-null   int32  \n",
      " 7   tech_support       7044 non-null   int32  \n",
      " 8   contract_encoder   7044 non-null   int32  \n",
      " 9   payment_method     7044 non-null   int32  \n",
      " 10  churned_mapped     7044 non-null   int64  \n",
      "dtypes: float64(2), int32(7), int64(2)\n",
      "memory usage: 412.9 KB\n"
     ]
    }
   ],
   "source": [
    "ch.info()"
   ]
  },
  {
   "cell_type": "code",
   "execution_count": 98,
   "id": "8ed43d98-c2ee-4c2e-9937-152028efcc47",
   "metadata": {},
   "outputs": [],
   "source": [
    "def predict_churn():\n",
    "    # collect user input\n",
    "    tenure = float(input(\"Enter tenure (eg., 12):\"))\n",
    "    Monthly_Charges = float(input(\"Enter the monthly charges (eg., 80.0):\"))\n",
    "    Total_Charges = float(input(\"Enter total charges (eg., 950.0):\"))\n",
    "    Multiple_lines = int(input(\"Multiple Lines (1 for yes, 0 for no):\"))\n",
    "    Internet_service = int(input(\"Internet Service (1 for yes, 0 for no):\"))\n",
    "    online_backup = int(input(\"online backup (1 for yes, 0 for no):\"))\n",
    "    device_protection = int(input(\"decive protection (1 for yes, 0 for no):\"))\n",
    "    tech_support = int(input(\"Tech support (1 for yes, 0 for no):\"))\n",
    "    contract_encoder = int(input(\"Contract encoder (1 for yes, 0 for no):\"))\n",
    "    payment_method = int(input(\"Payment method (1 for yes, 0 for no):\"))\n",
    "\n",
    "    # inputs directly in the form expected in the model\n",
    "    inputs = [\n",
    "        tenure,\n",
    "        Monthly_Charges,\n",
    "        Total_Charges,\n",
    "        Multiple_lines,\n",
    "        Internet_service,\n",
    "        online_backup,\n",
    "        device_protection,\n",
    "        tech_support,\n",
    "        contract_encoder,\n",
    "        payment_method\n",
    "    ]\n",
    "    \n",
    "    # Make a prediction using the preprocessed input data\n",
    "    prediction = model.predict([inputs])[0]\n",
    "\n",
    "    # Return the result\n",
    "    return \"Churn\" if prediction == 1 else \"No Churn\""
   ]
  },
  {
   "cell_type": "code",
   "execution_count": 99,
   "id": "dbd4df02-5ac1-4994-8876-9be2a7da561f",
   "metadata": {},
   "outputs": [
    {
     "name": "stdout",
     "output_type": "stream",
     "text": [
      "Enter tenure (eg., 12): 12\n",
      "Enter the monthly charges (eg., 80.0): 80.0\n",
      "Enter total charges (eg., 950.0): 950.0\n",
      "Multiple Lines (1 for yes, 0 for no): 0\n",
      "Internet Service (1 for yes, 0 for no): 1\n",
      "online backup (1 for yes, 0 for no): 1\n",
      "decive protection (1 for yes, 0 for no): 0\n",
      "Tech support (1 for yes, 0 for no): 0\n",
      "Contract encoder (1 for yes, 0 for no): 1\n",
      "Payment method (1 for yes, 0 for no): 1\n"
     ]
    },
    {
     "name": "stdout",
     "output_type": "stream",
     "text": [
      "Prediction: Churn\n"
     ]
    }
   ],
   "source": [
    "# call the function and print the result\n",
    "result = predict_churn()\n",
    "print(\"Prediction:\", result)"
   ]
  },
  {
   "cell_type": "code",
   "execution_count": null,
   "id": "e0a7638e-1f09-479b-bc19-e39b2ad9ed3e",
   "metadata": {},
   "outputs": [],
   "source": []
  }
 ],
 "metadata": {
  "kernelspec": {
   "display_name": "Python 3 (ipykernel)",
   "language": "python",
   "name": "python3"
  },
  "language_info": {
   "codemirror_mode": {
    "name": "ipython",
    "version": 3
   },
   "file_extension": ".py",
   "mimetype": "text/x-python",
   "name": "python",
   "nbconvert_exporter": "python",
   "pygments_lexer": "ipython3",
   "version": "3.11.7"
  }
 },
 "nbformat": 4,
 "nbformat_minor": 5
}
